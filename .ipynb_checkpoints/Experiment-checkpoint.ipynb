{
 "cells": [
  {
   "cell_type": "code",
   "execution_count": 1,
   "id": "d3cd21d6-578f-46a4-85ee-1b83fe5bcc27",
   "metadata": {},
   "outputs": [
    {
     "name": "stderr",
     "output_type": "stream",
     "text": [
      "C:\\Users\\rafor\\anaconda3\\envs\\endg511\\lib\\site-packages\\transformers\\utils\\generic.py:441: UserWarning: torch.utils._pytree._register_pytree_node is deprecated. Please use torch.utils._pytree.register_pytree_node instead.\n",
      "  _torch_pytree._register_pytree_node(\n"
     ]
    },
    {
     "name": "stdout",
     "output_type": "stream",
     "text": [
      "cuda:0\n"
     ]
    }
   ],
   "source": [
    "import pickle\n",
    "import numpy as np\n",
    "import random\n",
    "import glob\n",
    "import matplotlib.pylab as plt\n",
    "import numpy as np\n",
    "from PIL import Image\n",
    "from sklearn.model_selection import StratifiedShuffleSplit\n",
    "\n",
    "import torch\n",
    "from torch.utils.data import Dataset, DataLoader\n",
    "import torch.nn as nn\n",
    "import torch.nn.functional as func\n",
    "from torchvision.models import resnet18\n",
    "from torchvision import transforms, models\n",
    "from torchsummary import summary\n",
    "import torch.optim as optim\n",
    "from torch.optim.lr_scheduler import ExponentialLR\n",
    "from torch.optim.lr_scheduler import StepLR\n",
    "from torch.optim.lr_scheduler import CosineAnnealingLR\n",
    "from sklearn.model_selection import train_test_split\n",
    "from sklearn.metrics import accuracy_score\n",
    "from sklearn.metrics import confusion_matrix\n",
    "from sklearn.model_selection import StratifiedShuffleSplit\n",
    "from scipy.stats import entropy\n",
    "from getData import *\n",
    "from trainer import *\n",
    "from getModel import *\n",
    "#import torchprofile\n",
    "\n",
    "import time\n",
    "import pandas as pd\n",
    "# Seed for reproducibility\n",
    "SEED = 25\n",
    "random.seed(SEED)\n",
    "torch.manual_seed(SEED)\n",
    "np.random.seed(SEED)\n",
    "\n",
    "device = torch.device('cuda:0' if torch.cuda.is_available() else 'cpu')\n",
    "print(device)"
   ]
  },
  {
   "cell_type": "markdown",
   "id": "6796dbbc-fb81-4a73-8bc9-8d4afc2132d4",
   "metadata": {},
   "source": [
    "# **Load Dataset**"
   ]
  },
  {
   "cell_type": "code",
   "execution_count": 2,
   "id": "3c69ff39-06cf-466f-8774-f24f00d53f91",
   "metadata": {},
   "outputs": [
    {
     "name": "stdout",
     "output_type": "stream",
     "text": [
      "['Training\\\\Fire', 'Training\\\\No_Fire']\n",
      "['Test\\\\Fire', 'Test\\\\No_Fire']\n"
     ]
    }
   ],
   "source": [
    "dataset = TrainValDataset()\n",
    "train_size = int(1.0 * len(dataset))\n",
    "test_size = len(dataset) - train_size\n",
    "train_dataset, val_dataset = torch.utils.data.random_split(dataset, [train_size, test_size])\n",
    "\n",
    "train_loader = DataLoader(train_dataset, batch_size= 32, shuffle = True, num_workers= 0)\n",
    "\n",
    "val_loader = DataLoader(val_dataset, batch_size= 32, shuffle = False, num_workers= 0)\n",
    "\n",
    "test_dataset = TestDataset()\n",
    "\n",
    "test_loader = DataLoader(test_dataset, batch_size= 32, shuffle = False, num_workers= 0)\n"
   ]
  },
  {
   "cell_type": "markdown",
   "id": "06bcb05d-20f3-4e79-aa5a-23bce3ff7458",
   "metadata": {},
   "source": [
    "# **Baseline Model**"
   ]
  },
  {
   "cell_type": "code",
   "execution_count": 3,
   "id": "a8fdad25-ef1b-4749-a29b-c9f98247ce77",
   "metadata": {},
   "outputs": [],
   "source": [
    "NUM_EPOCHS = 10"
   ]
  },
  {
   "cell_type": "code",
   "execution_count": 4,
   "id": "b5cc4341-ec5a-4608-baf7-0996f957eafb",
   "metadata": {},
   "outputs": [],
   "source": [
    "blNet = blModel().to(device)\n",
    "optimizer_bl = optim.Adam(blNet.parameters(), lr=1e-3)\n",
    "scheduler = None\n",
    "criterion_bl = nn.CrossEntropyLoss()"
   ]
  },
  {
   "cell_type": "code",
   "execution_count": 5,
   "id": "4ba84ce9-1777-4a63-bb5d-bc93c47095df",
   "metadata": {},
   "outputs": [
    {
     "name": "stdout",
     "output_type": "stream",
     "text": [
      "----------------------------------------------------------------\n",
      "        Layer (type)               Output Shape         Param #\n",
      "================================================================\n",
      "            Conv2d-1          [-1, 4, 254, 254]             112\n",
      "       BatchNorm2d-2          [-1, 4, 254, 254]               8\n",
      "              ReLU-3          [-1, 4, 254, 254]               0\n",
      "            Conv2d-4          [-1, 4, 254, 254]             148\n",
      "       BatchNorm2d-5          [-1, 4, 254, 254]               8\n",
      "              ReLU-6          [-1, 4, 254, 254]               0\n",
      "         MaxPool2d-7          [-1, 4, 127, 127]               0\n",
      "            Conv2d-8          [-1, 8, 127, 127]             296\n",
      "       BatchNorm2d-9          [-1, 8, 127, 127]              16\n",
      "             ReLU-10          [-1, 8, 127, 127]               0\n",
      "           Conv2d-11          [-1, 8, 127, 127]             584\n",
      "      BatchNorm2d-12          [-1, 8, 127, 127]              16\n",
      "             ReLU-13          [-1, 8, 127, 127]               0\n",
      "        MaxPool2d-14            [-1, 8, 63, 63]               0\n",
      "           Conv2d-15           [-1, 16, 63, 63]           1,168\n",
      "      BatchNorm2d-16           [-1, 16, 63, 63]              32\n",
      "             ReLU-17           [-1, 16, 63, 63]               0\n",
      "           Conv2d-18           [-1, 16, 63, 63]           2,320\n",
      "      BatchNorm2d-19           [-1, 16, 63, 63]              32\n",
      "             ReLU-20           [-1, 16, 63, 63]               0\n",
      "           Conv2d-21           [-1, 16, 63, 63]           2,320\n",
      "      BatchNorm2d-22           [-1, 16, 63, 63]              32\n",
      "             ReLU-23           [-1, 16, 63, 63]               0\n",
      "        MaxPool2d-24           [-1, 16, 31, 31]               0\n",
      "          Flatten-25                [-1, 15376]               0\n",
      "          Dropout-26                [-1, 15376]               0\n",
      "           Linear-27                 [-1, 1024]      15,746,048\n",
      "      BatchNorm1d-28                 [-1, 1024]           2,048\n",
      "             ReLU-29                 [-1, 1024]               0\n",
      "          Dropout-30                 [-1, 1024]               0\n",
      "           Linear-31                  [-1, 512]         524,800\n",
      "      BatchNorm1d-32                  [-1, 512]           1,024\n",
      "             ReLU-33                  [-1, 512]               0\n",
      "           Linear-34                    [-1, 2]           1,026\n",
      "          Softmax-35                    [-1, 2]               0\n",
      "================================================================\n",
      "Total params: 16,282,038\n",
      "Trainable params: 16,282,038\n",
      "Non-trainable params: 0\n",
      "----------------------------------------------------------------\n",
      "Input size (MB): 0.74\n",
      "Forward/backward pass size (MB): 23.21\n",
      "Params size (MB): 62.11\n",
      "Estimated Total Size (MB): 86.06\n",
      "----------------------------------------------------------------\n"
     ]
    }
   ],
   "source": [
    "summary(blNet, (3, 254, 254))"
   ]
  },
  {
   "cell_type": "code",
   "execution_count": 6,
   "id": "2a846a6e-2f72-4646-9d44-e760088c1c26",
   "metadata": {
    "scrolled": true
   },
   "outputs": [
    {
     "name": "stdout",
     "output_type": "stream",
     "text": [
      "epoch 1 --> trainLoss: 0.333, trainAcc: 0.980, validLoss: 0.740, validAcc: 0.567\n",
      "Model Saved!\n",
      "epoch 2 --> trainLoss: 0.323, trainAcc: 0.990, validLoss: 0.736, validAcc: 0.569\n",
      "Model Saved!\n",
      "epoch 3 --> trainLoss: 0.322, trainAcc: 0.991, validLoss: 0.752, validAcc: 0.557\n",
      "epoch 4 --> trainLoss: 0.322, trainAcc: 0.991, validLoss: 0.747, validAcc: 0.561\n",
      "epoch 5 --> trainLoss: 0.321, trainAcc: 0.992, validLoss: 0.734, validAcc: 0.573\n",
      "Model Saved!\n",
      "epoch 6 --> trainLoss: 0.320, trainAcc: 0.993, validLoss: 0.705, validAcc: 0.598\n",
      "Model Saved!\n",
      "epoch 7 --> trainLoss: 0.319, trainAcc: 0.994, validLoss: 0.691, validAcc: 0.617\n",
      "Model Saved!\n",
      "epoch 8 --> trainLoss: 0.317, trainAcc: 0.996, validLoss: 0.730, validAcc: 0.577\n",
      "epoch 9 --> trainLoss: 0.318, trainAcc: 0.996, validLoss: 0.753, validAcc: 0.554\n",
      "epoch 10 --> trainLoss: 0.317, trainAcc: 0.996, validLoss: 0.683, validAcc: 0.627\n",
      "Model Saved!\n"
     ]
    }
   ],
   "source": [
    "bl_titleToday = \"./Models/best_bl_0319.pth\"\n",
    "BL = blHandler(blNet, criterion_bl, optimizer_bl, device=device, scheduler=scheduler, num_epochs=NUM_EPOCHS, bestPath=bl_titleToday)\n",
    "blNet, blHistory = BL.train(train_loader, test_loader)"
   ]
  },
  {
   "cell_type": "code",
   "execution_count": 7,
   "id": "611fc1af-4768-4040-9605-2afde52558f0",
   "metadata": {},
   "outputs": [],
   "source": [
    "bl_titleToday = \"./Models/best_bl_0319.pth\"\n",
    "blNet.load_state_dict(torch.load(\"./Models/best_bl_0319.pth\"))\n",
    "BL = blHandler(blNet, criterion_bl, optimizer_bl, device=device, scheduler=scheduler, num_epochs=NUM_EPOCHS, bestPath=bl_titleToday)\n",
    "startTime = time.time()\n",
    "predicted, acc = BL.infer(test_loader)\n",
    "executionTime= (time.time() - startTime)/len(predicted)"
   ]
  },
  {
   "cell_type": "code",
   "execution_count": 8,
   "id": "a11175ac-c814-421a-953e-db5ee9247cfd",
   "metadata": {},
   "outputs": [
    {
     "name": "stdout",
     "output_type": "stream",
     "text": [
      "0.6265046296296296\n",
      "0.0017198692608200593\n"
     ]
    }
   ],
   "source": [
    "print(acc)\n",
    "print(executionTime)"
   ]
  },
  {
   "cell_type": "markdown",
   "id": "64f67556-424d-4255-903b-832fb43031d6",
   "metadata": {},
   "source": [
    "# **EE Model**"
   ]
  },
  {
   "cell_type": "code",
   "execution_count": 9,
   "id": "52456142-4a9d-46f4-8926-10bb034da1a3",
   "metadata": {},
   "outputs": [
    {
     "name": "stdout",
     "output_type": "stream",
     "text": [
      "['Training\\\\Fire', 'Training\\\\No_Fire']\n",
      "['Test\\\\Fire', 'Test\\\\No_Fire']\n"
     ]
    }
   ],
   "source": [
    "dataset = TrainValDataset()\n",
    "train_size = int(1.0 * len(dataset))\n",
    "test_size = len(dataset) - train_size\n",
    "train_dataset, val_dataset = torch.utils.data.random_split(dataset, [train_size, test_size])\n",
    "\n",
    "train_loader = DataLoader(train_dataset, batch_size= 32, shuffle = True, num_workers= 0)\n",
    "\n",
    "val_loader = DataLoader(val_dataset, batch_size= 32, shuffle = False, num_workers= 0)\n",
    "\n",
    "test_dataset = TestDataset()\n",
    "\n",
    "test_loader = DataLoader(test_dataset, batch_size= 32, shuffle = False, num_workers= 0)"
   ]
  },
  {
   "cell_type": "code",
   "execution_count": 10,
   "id": "666d7959-3f56-47db-bd2b-99b2bb90785f",
   "metadata": {},
   "outputs": [],
   "source": [
    "NUM_EPOCHS = 10"
   ]
  },
  {
   "cell_type": "code",
   "execution_count": 11,
   "id": "ad411f8b-cffb-4cd2-9946-0740e36470cd",
   "metadata": {},
   "outputs": [
    {
     "name": "stdout",
     "output_type": "stream",
     "text": [
      "Number of base parameters: 1188\n",
      "Number of short branch parameters: 8402434\n",
      "Number of long branch parameters: 16280850\n",
      "Difference = 7878416\n"
     ]
    }
   ],
   "source": [
    "eeNet_V0 = eeModel_V0().to(device)\n",
    "optimizer_ee_V0 = optim.Adam(eeNet_V0.parameters(), lr=1e-3)\n",
    "scheduler_V0 = None\n",
    "criterion_ee_V0 = nn.CrossEntropyLoss()\n",
    "V0_titleToday = \"./Models/best_eev0.pth\"\n",
    "EE_V0 = eeHandler(eeNet_V0, criterion_ee_V0, optimizer_ee_V0, device=device, scheduler=scheduler_V0, num_epochs=NUM_EPOCHS, bestPath=V0_titleToday)"
   ]
  },
  {
   "cell_type": "code",
   "execution_count": 11,
   "id": "fad62411-8cdb-4e4e-b16e-a3dc4ce5e177",
   "metadata": {
    "scrolled": true
   },
   "outputs": [
    {
     "name": "stdout",
     "output_type": "stream",
     "text": [
      "epoch 1 --> trainLoss: 0.337, trainAcc: 0.976, validLoss: 0.752, validAcc: 0.543\n",
      "Model Saved!\n",
      "epoch 2 --> trainLoss: 0.321, trainAcc: 0.992, validLoss: 0.710, validAcc: 0.594\n",
      "Model Saved!\n",
      "epoch 3 --> trainLoss: 0.319, trainAcc: 0.994, validLoss: 0.710, validAcc: 0.591\n",
      "epoch 4 --> trainLoss: 0.318, trainAcc: 0.995, validLoss: 0.724, validAcc: 0.578\n",
      "epoch 5 --> trainLoss: 0.317, trainAcc: 0.996, validLoss: 0.740, validAcc: 0.559\n",
      "epoch 6 --> trainLoss: 0.316, trainAcc: 0.997, validLoss: 0.722, validAcc: 0.579\n",
      "epoch 7 --> trainLoss: 0.316, trainAcc: 0.997, validLoss: 0.697, validAcc: 0.603\n",
      "Model Saved!\n",
      "epoch 8 --> trainLoss: 0.316, trainAcc: 0.997, validLoss: 0.707, validAcc: 0.597\n",
      "epoch 9 --> trainLoss: 0.316, trainAcc: 0.997, validLoss: 0.726, validAcc: 0.577\n",
      "epoch 10 --> trainLoss: 0.316, trainAcc: 0.997, validLoss: 0.759, validAcc: 0.549\n"
     ]
    }
   ],
   "source": [
    "eeNetV0, eeV0History = EE_V0.train(train_loader, test_loader)"
   ]
  },
  {
   "cell_type": "code",
   "execution_count": 12,
   "id": "7e64aa77-322a-44ac-b4b0-b30f37ceda32",
   "metadata": {},
   "outputs": [],
   "source": [
    "V0_titleToday = \"./Models/best_eev0.pth\"\n",
    "eeNet_V0.load_state_dict(torch.load(\"./Models/best_eev0.pth\"))\n",
    "EE_V0 = eeHandler(eeNet_V0, criterion_ee_V0, optimizer_ee_V0, device=device, scheduler=scheduler_V0, num_epochs=NUM_EPOCHS, bestPath=V0_titleToday)"
   ]
  },
  {
   "cell_type": "markdown",
   "id": "cd59f00a-21e6-4910-bce5-dc45ef6a968b",
   "metadata": {},
   "source": [
    "Threshold = 0.1"
   ]
  },
  {
   "cell_type": "code",
   "execution_count": 13,
   "id": "80f61018-b9b0-4ff8-8b04-ff65592aa658",
   "metadata": {},
   "outputs": [
    {
     "name": "stdout",
     "output_type": "stream",
     "text": [
      "Summary\n",
      "======================\n",
      "Branch 1: Accuracy 64.33% with 80.49% of the samples\n",
      "Branch 2: Accuracy 44.56% with 19.51% of the samples\n",
      "Overall Weighted Accuracy: 60.47%\n"
     ]
    }
   ],
   "source": [
    "rec, pred1, acc = EE_V0.infer(test_loader, threshold = 0.1)\n",
    "EE_V0.testingSummary(rec)"
   ]
  },
  {
   "cell_type": "code",
   "execution_count": 14,
   "id": "2ca0d918-1aad-4485-947e-3665ef63e244",
   "metadata": {},
   "outputs": [
    {
     "name": "stdout",
     "output_type": "stream",
     "text": [
      "0.0013364667306992768\n"
     ]
    }
   ],
   "source": [
    "startTime = time.time()\n",
    "EE_V0.forward_timeTest(test_loader, ratio = 0.8049)\n",
    "executionTime= (time.time() - startTime)/len(test_dataset)\n",
    "print(executionTime)"
   ]
  },
  {
   "cell_type": "markdown",
   "id": "1d573d9d-d48d-4cc7-aa3a-b961952adc65",
   "metadata": {},
   "source": [
    "Threshold = 0.2"
   ]
  },
  {
   "cell_type": "code",
   "execution_count": 15,
   "id": "8a30fc1f-d967-49e5-bf88-b29b360c2392",
   "metadata": {},
   "outputs": [
    {
     "name": "stdout",
     "output_type": "stream",
     "text": [
      "Summary\n",
      "======================\n",
      "Branch 1: Accuracy 64.03% with 87.23% of the samples\n",
      "Branch 2: Accuracy 38.18% with 12.77% of the samples\n",
      "Overall Weighted Accuracy: 60.73%\n"
     ]
    }
   ],
   "source": [
    "rec, pred2, acc = EE_V0.infer(test_loader, threshold = 0.2)\n",
    "EE_V0.testingSummary(rec)"
   ]
  },
  {
   "cell_type": "code",
   "execution_count": 16,
   "id": "38a1a50b-38b7-48b3-92b3-c4c647a35c6a",
   "metadata": {},
   "outputs": [
    {
     "name": "stdout",
     "output_type": "stream",
     "text": [
      "0.0012914852488963666\n"
     ]
    }
   ],
   "source": [
    "startTime = time.time()\n",
    "EE_V0.forward_timeTest(test_loader, ratio = 0.8723)\n",
    "executionTime= (time.time() - startTime)/len(test_dataset)\n",
    "print(executionTime)"
   ]
  },
  {
   "cell_type": "markdown",
   "id": "62727239-1c31-4c57-913f-7584857eb2a4",
   "metadata": {},
   "source": [
    "Threshold = 0.3"
   ]
  },
  {
   "cell_type": "code",
   "execution_count": 17,
   "id": "d11228f4-b9bc-484f-a952-1e316f8d94ae",
   "metadata": {},
   "outputs": [
    {
     "name": "stdout",
     "output_type": "stream",
     "text": [
      "Summary\n",
      "======================\n",
      "Branch 1: Accuracy 62.90% with 98.90% of the samples\n",
      "Branch 2: Accuracy 38.95% with 1.10% of the samples\n",
      "Overall Weighted Accuracy: 62.63%\n"
     ]
    }
   ],
   "source": [
    "rec, pred3, acc = EE_V0.infer(test_loader, threshold = 0.3)\n",
    "EE_V0.testingSummary(rec)"
   ]
  },
  {
   "cell_type": "code",
   "execution_count": 18,
   "id": "69e7a889-78cb-4ce3-9edf-7fc21ada7dff",
   "metadata": {},
   "outputs": [
    {
     "name": "stdout",
     "output_type": "stream",
     "text": [
      "0.0012805422041052882\n"
     ]
    }
   ],
   "source": [
    "startTime = time.time()\n",
    "EE_V0.forward_timeTest(test_loader, ratio = 0.989)\n",
    "executionTime= (time.time() - startTime)/len(test_dataset)\n",
    "print(executionTime)"
   ]
  },
  {
   "cell_type": "markdown",
   "id": "9705271d-c607-4c34-918d-2d0816f352bc",
   "metadata": {},
   "source": [
    "# **Plots**"
   ]
  },
  {
   "cell_type": "code",
   "execution_count": 43,
   "id": "21f8af42-c6cf-45c3-9420-cbb35d22dd5c",
   "metadata": {},
   "outputs": [],
   "source": [
    "idx = range(len(test_dataset))\n",
    "true_label = []\n",
    "for inputs, labels in test_loader:\n",
    "        \n",
    "        labels = labels.data.cpu().float().tolist()\n",
    "        true_label.extend(labels) # Save Truth\n"
   ]
  },
  {
   "cell_type": "code",
   "execution_count": null,
   "id": "e32bf710-6845-4c85-acb7-7873b25f6fa6",
   "metadata": {},
   "outputs": [],
   "source": [
    "for i in true_label:\n",
    "    true_label[i] = true_label[i][0]"
   ]
  },
  {
   "cell_type": "markdown",
   "id": "cebe2c0d-19a0-4973-9a13-bcc08f46d1e9",
   "metadata": {},
   "source": [
    "**BL Plots**"
   ]
  },
  {
   "cell_type": "code",
   "execution_count": 21,
   "id": "204f7823-e55c-4424-9b15-a8c852b883e3",
   "metadata": {},
   "outputs": [
    {
     "data": {
      "image/png": "[encoded data removed]",
      "text/plain": [
       "<Figure size 640x480 with 1 Axes>"
      ]
     },
     "metadata": {},
     "output_type": "display_data"
    }
   ],
   "source": [
    "figTitle = './Figures/BL_tv_acc.png'\n",
    "fig = plt.Figure()\n",
    "xAxis = range(10)\n",
    "\n",
    "plt.plot(xAxis, blHistory[\"train\"][\"accuracy\"], color = \"green\");\n",
    "plt.plot(xAxis, blHistory[\"validation\"][\"accuracy\"], color = \"red\");\n",
    "plt.legend([\"Training\", \"Validation\"])\n",
    "plt.xlabel('EPOCH')\n",
    "plt.ylabel('Accuracy')\n",
    "plt.title(\"Baseline Model Training and Validation Accuracy\")\n",
    "plt.savefig(figTitle)\n",
    "plt.show()"
   ]
  },
  {
   "cell_type": "code",
   "execution_count": 22,
   "id": "ae1fbfea-7262-4b01-83de-f3d34459578b",
   "metadata": {},
   "outputs": [
    {
     "data": {
      "image/png": "[encoded data removed]",
      "text/plain": [
       "<Figure size 640x480 with 1 Axes>"
      ]
     },
     "metadata": {},
     "output_type": "display_data"
    }
   ],
   "source": [
    "figTitle = './Figures/BL_tv_loss.png'\n",
    "fig = plt.Figure()\n",
    "xAxis = range(10)\n",
    "\n",
    "plt.plot(xAxis, blHistory[\"train\"][\"loss\"], color = \"green\");\n",
    "plt.plot(xAxis, blHistory[\"validation\"][\"loss\"], color = \"red\");\n",
    "plt.legend([\"Training\", \"Validation\"])\n",
    "plt.xlabel('EPOCH')\n",
    "plt.ylabel('Loss')\n",
    "plt.title(\"Baseline Model Training and Validation Loss\")\n",
    "plt.savefig(figTitle)\n",
    "plt.show()"
   ]
  },
  {
   "cell_type": "code",
   "execution_count": 47,
   "id": "70aabe98-2547-425f-aaea-0b4a97d318f1",
   "metadata": {},
   "outputs": [
    {
     "name": "stdout",
     "output_type": "stream",
     "text": [
      "<class 'list'>\n"
     ]
    }
   ],
   "source": []
  },
  {
   "cell_type": "code",
   "execution_count": 46,
   "id": "2cbf09d4-35eb-4233-bd75-d69603a0f486",
   "metadata": {},
   "outputs": [
    {
     "data": {
      "text/plain": [
       "<Figure size 1200x700 with 0 Axes>"
      ]
     },
     "metadata": {},
     "output_type": "display_data"
    }
   ],
   "source": [
    "# constant for classes\n",
    "classes = ('Fire', 'No_Fire')\n",
    "\n",
    "# Build confusion matrix\n",
    "cf_matrix = confusion_matrix(true_label, predicted)\n",
    "df_cm = pd.DataFrame(cf_matrix / np.sum(cf_matrix, axis=1)[:, None], index = [i for i in classes],\n",
    "                     columns = [i for i in classes])\n",
    "plt.figure(figsize = (12,7))\n",
    "plt.savefig('./Figures/BL_cf.png')"
   ]
  },
  {
   "cell_type": "markdown",
   "id": "e4ea3699-b5b8-4042-a32a-c191e7a95ca5",
   "metadata": {},
   "source": [
    "**Early Exiting Plots**"
   ]
  },
  {
   "cell_type": "code",
   "execution_count": 36,
   "id": "437c94f0-ed1f-4be3-b808-8ec5fb1e021c",
   "metadata": {},
   "outputs": [
    {
     "data": {
      "image/png": "[encoded data removed]",
      "text/plain": [
       "<Figure size 640x480 with 1 Axes>"
      ]
     },
     "metadata": {},
     "output_type": "display_data"
    }
   ],
   "source": [
    "figTitle = './Figures/EE0_tv_acc.png'\n",
    "fig = plt.Figure()\n",
    "xAxis = range(10)\n",
    "\n",
    "plt.plot(xAxis, eeV0History['T'][\"train\"][\"accuracy\"], color = \"green\");\n",
    "plt.plot(xAxis, eeV0History['T'][\"validation\"][\"accuracy\"], color = \"red\");\n",
    "plt.legend([\"Training\", \"Validation\"])\n",
    "plt.xlabel('EPOCH')\n",
    "plt.ylabel('Accuracy')\n",
    "plt.title(\"Early Exit Model Training and Validation Accuracy\")\n",
    "plt.savefig(figTitle)\n",
    "plt.show()"
   ]
  },
  {
   "cell_type": "code",
   "execution_count": 37,
   "id": "e6f2d510-b715-41c5-83d0-6c2ec42a15ad",
   "metadata": {},
   "outputs": [
    {
     "data": {
      "image/png": "[encoded data removed]",
      "text/plain": [
       "<Figure size 640x480 with 1 Axes>"
      ]
     },
     "metadata": {},
     "output_type": "display_data"
    }
   ],
   "source": [
    "figTitle = './Figures/EE0_tv_loss.png'\n",
    "fig = plt.Figure()\n",
    "xAxis = range(10)\n",
    "\n",
    "plt.plot(xAxis, eeV0History['T'][\"train\"][\"loss\"], color = \"green\");\n",
    "plt.plot(xAxis, eeV0History['T'][\"validation\"][\"loss\"], color = \"red\");\n",
    "plt.legend([\"Training\", \"Validation\"])\n",
    "plt.xlabel('EPOCH')\n",
    "plt.ylabel('Loss')\n",
    "plt.title(\"Early Exit Model Training and Validation Loss\")\n",
    "plt.savefig(figTitle)\n",
    "plt.show()"
   ]
  },
  {
   "cell_type": "code",
   "execution_count": null,
   "id": "af67db06-c23d-40e3-9668-cafc2cc7b4c1",
   "metadata": {},
   "outputs": [],
   "source": []
  }
 ],
 "metadata": {
  "kernelspec": {
   "display_name": "Python 3 (ipykernel)",
   "language": "python",
   "name": "python3"
  },
  "language_info": {
   "codemirror_mode": {
    "name": "ipython",
    "version": 3
   },
   "file_extension": ".py",
   "mimetype": "text/x-python",
   "name": "python",
   "nbconvert_exporter": "python",
   "pygments_lexer": "ipython3",
   "version": "3.9.18"
  }
 },
 "nbformat": 4,
 "nbformat_minor": 5
}
