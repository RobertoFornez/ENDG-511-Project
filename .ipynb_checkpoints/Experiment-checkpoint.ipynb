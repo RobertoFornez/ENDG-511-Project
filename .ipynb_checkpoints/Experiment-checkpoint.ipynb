{
 "cells": [
  {
   "cell_type": "code",
   "execution_count": 1,
   "id": "d3cd21d6-578f-46a4-85ee-1b83fe5bcc27",
   "metadata": {},
   "outputs": [
    {
     "name": "stderr",
     "output_type": "stream",
     "text": [
      "C:\\Users\\rafor\\anaconda3\\envs\\endg511\\lib\\site-packages\\transformers\\utils\\generic.py:441: UserWarning: torch.utils._pytree._register_pytree_node is deprecated. Please use torch.utils._pytree.register_pytree_node instead.\n",
      "  _torch_pytree._register_pytree_node(\n"
     ]
    },
    {
     "name": "stdout",
     "output_type": "stream",
     "text": [
      "cuda:0\n"
     ]
    }
   ],
   "source": [
    "import pickle\n",
    "import numpy as np\n",
    "import random\n",
    "import glob\n",
    "import matplotlib.pylab as plt\n",
    "import numpy as np\n",
    "from PIL import Image\n",
    "from sklearn.model_selection import StratifiedShuffleSplit\n",
    "\n",
    "import torch\n",
    "from torch.utils.data import Dataset, DataLoader\n",
    "import torch.nn as nn\n",
    "import torch.nn.functional as func\n",
    "from torchvision.models import resnet18\n",
    "from torchvision import transforms, models\n",
    "from torchsummary import summary\n",
    "import torch.optim as optim\n",
    "from torch.optim.lr_scheduler import ExponentialLR\n",
    "from torch.optim.lr_scheduler import StepLR\n",
    "from torch.optim.lr_scheduler import CosineAnnealingLR\n",
    "from sklearn.model_selection import train_test_split\n",
    "from sklearn.metrics import accuracy_score\n",
    "from sklearn.metrics import confusion_matrix\n",
    "from sklearn.metrics import ConfusionMatrixDisplay\n",
    "from sklearn.model_selection import StratifiedShuffleSplit\n",
    "from scipy.stats import entropy\n",
    "from getData import *\n",
    "from trainer import *\n",
    "from getModel import *\n",
    "import torch.nn.utils.prune as prune\n",
    "\n",
    "\n",
    "import time\n",
    "import pandas as pd\n",
    "# Seed for reproducibility\n",
    "SEED = 120\n",
    "random.seed(SEED)\n",
    "torch.manual_seed(SEED)\n",
    "np.random.seed(SEED)\n",
    "\n",
    "device = torch.device('cuda:0' if torch.cuda.is_available() else 'cpu')\n",
    "print(device)"
   ]
  },
  {
   "cell_type": "markdown",
   "id": "6796dbbc-fb81-4a73-8bc9-8d4afc2132d4",
   "metadata": {},
   "source": [
    "# **Load Dataset**"
   ]
  },
  {
   "cell_type": "code",
   "execution_count": 2,
   "id": "3c69ff39-06cf-466f-8774-f24f00d53f91",
   "metadata": {},
   "outputs": [
    {
     "name": "stdout",
     "output_type": "stream",
     "text": [
      "['Training\\\\Fire', 'Training\\\\No_Fire']\n"
     ]
    }
   ],
   "source": [
    "## All 47992 images are stored in one folder containing the 2 sub-folders with the label\n",
    "# Code here creates a dataset class using the images, splits it 80-20 for train-val and testing\n",
    "# the 80 is then split again 75-25 for training and validation for a final train/val/test split of 60/20/20\n",
    "\n",
    "#the split up datasets are then used to create dataloaders, the dataloader for the training dataset is shuffled, the others are not.\n",
    "\n",
    "dataset = TrainValDataset()\n",
    "trainval_size = int(0.8 * len(dataset))\n",
    "test_size = len(dataset) - trainval_size\n",
    "\n",
    "trainval_dataset, test_dataset = torch.utils.data.random_split(dataset, [trainval_size, test_size])\n",
    "\n",
    "train_size = int(0.75 * len(trainval_dataset))\n",
    "val_size = len(trainval_dataset) - train_size\n",
    "\n",
    "train_dataset, val_dataset = torch.utils.data.random_split(trainval_dataset, [train_size, val_size])\n",
    "\n",
    "train_loader = DataLoader(train_dataset, batch_size= 32, shuffle = True, num_workers= 0)\n",
    "\n",
    "val_loader = DataLoader(val_dataset, batch_size= 32, shuffle = False, num_workers= 0)\n",
    "\n",
    "test_loader = DataLoader(test_dataset, batch_size= 32, shuffle = False, num_workers= 0)\n"
   ]
  },
  {
   "cell_type": "markdown",
   "id": "06bcb05d-20f3-4e79-aa5a-23bce3ff7458",
   "metadata": {},
   "source": [
    "# **Baseline Model**"
   ]
  },
  {
   "cell_type": "code",
   "execution_count": 3,
   "id": "a8fdad25-ef1b-4749-a29b-c9f98247ce77",
   "metadata": {},
   "outputs": [],
   "source": [
    "NUM_EPOCHS = 10"
   ]
  },
  {
   "cell_type": "code",
   "execution_count": 4,
   "id": "b5cc4341-ec5a-4608-baf7-0996f957eafb",
   "metadata": {},
   "outputs": [],
   "source": [
    "## The baseline NN is created here using the blModel class, this model is a struture pruned/modified VGG16\n",
    "\n",
    "blNet = blModel().to(device)\n",
    "optimizer_bl = optim.Adam(blNet.parameters(), lr=1e-3)\n",
    "scheduler = None\n",
    "criterion_bl = nn.CrossEntropyLoss()"
   ]
  },
  {
   "cell_type": "code",
   "execution_count": 5,
   "id": "2a846a6e-2f72-4646-9d44-e760088c1c26",
   "metadata": {
    "scrolled": true
   },
   "outputs": [
    {
     "name": "stdout",
     "output_type": "stream",
     "text": [
      "epoch 1 --> trainLoss: 0.354, trainAcc: 0.958, validLoss: 0.383, validAcc: 0.929\n",
      "Model Saved!\n",
      "epoch 2 --> trainLoss: 0.332, trainAcc: 0.981, validLoss: 0.345, validAcc: 0.968\n",
      "Model Saved!\n",
      "epoch 3 --> trainLoss: 0.327, trainAcc: 0.986, validLoss: 0.324, validAcc: 0.989\n",
      "Model Saved!\n",
      "epoch 4 --> trainLoss: 0.324, trainAcc: 0.989, validLoss: 0.324, validAcc: 0.989\n",
      "epoch 5 --> trainLoss: 0.325, trainAcc: 0.988, validLoss: 0.336, validAcc: 0.976\n",
      "epoch 6 --> trainLoss: 0.323, trainAcc: 0.990, validLoss: 0.323, validAcc: 0.990\n",
      "Model Saved!\n",
      "epoch 7 --> trainLoss: 0.323, trainAcc: 0.991, validLoss: 0.322, validAcc: 0.991\n",
      "Model Saved!\n",
      "epoch 8 --> trainLoss: 0.321, trainAcc: 0.993, validLoss: 0.321, validAcc: 0.992\n",
      "Model Saved!\n",
      "epoch 9 --> trainLoss: 0.322, trainAcc: 0.992, validLoss: 0.321, validAcc: 0.992\n",
      "Model Saved!\n",
      "epoch 10 --> trainLoss: 0.322, trainAcc: 0.991, validLoss: 0.333, validAcc: 0.979\n"
     ]
    }
   ],
   "source": [
    "## Here the handler for the baseline model is made using the blHandler class, \n",
    "# in this class are functions that handle the training, testing, and validation of the basline mode\n",
    "# after the handler is made the model is trained using the training and validation data loaders\n",
    "\n",
    "bl_titleToday = \"./Models/best_bl_0410.pth\"\n",
    "BL = blHandler(blNet, criterion_bl, optimizer_bl, device=device, scheduler=scheduler, num_epochs=NUM_EPOCHS, bestPath=bl_titleToday)\n",
    "blNet, blHistory = BL.train(train_loader, val_loader)"
   ]
  },
  {
   "cell_type": "code",
   "execution_count": 12,
   "id": "611fc1af-4768-4040-9605-2afde52558f0",
   "metadata": {},
   "outputs": [],
   "source": [
    "##code here is for testing the model, the best model that was saved during training is loaded and tested using a new handler\n",
    "\n",
    "bl_titleToday = \"./Models/best_bl_0410.pth\"\n",
    "blNet.load_state_dict(torch.load(\"./Models/best_bl_0410.pth\"))\n",
    "BL = blHandler(blNet, criterion_bl, optimizer_bl, device=device, scheduler=scheduler, num_epochs=NUM_EPOCHS, bestPath=bl_titleToday)\n",
    "startTime = time.time()\n",
    "predictedBL, acc = BL.infer(test_loader)\n",
    "executionTime= (time.time() - startTime)/len(predictedBL)"
   ]
  },
  {
   "cell_type": "code",
   "execution_count": 13,
   "id": "a11175ac-c814-421a-953e-db5ee9247cfd",
   "metadata": {},
   "outputs": [
    {
     "name": "stdout",
     "output_type": "stream",
     "text": [
      "Baseline Accuracy:  0.9935416666666667\n",
      "Execution Time (s):  0.001719764178339945\n"
     ]
    }
   ],
   "source": [
    "print(\"Baseline Accuracy: \", acc)\n",
    "print(\"Execution Time (s): \", executionTime)"
   ]
  },
  {
   "cell_type": "code",
   "execution_count": 14,
   "id": "294c086f-e39e-4b97-8dbd-7a36a2008952",
   "metadata": {},
   "outputs": [
    {
     "name": "stdout",
     "output_type": "stream",
     "text": [
      "Model Size (MB):  62.123382568359375\n"
     ]
    }
   ],
   "source": [
    "# Code here is used to obtain the model size of the base line model for compariosn purposes against the EE models\n",
    "\n",
    "param_size = 0\n",
    "for param in blNet.baseModel.parameters():\n",
    "    param_size += param.nelement() * param.element_size()\n",
    "for param in blNet.longBranch.parameters():\n",
    "    param_size += param.nelement() * param.element_size()\n",
    "\n",
    "buffer_size = 0\n",
    "for buffer in blNet.baseModel.buffers():\n",
    "    buffer_size += buffer.nelement() * buffer.element_size()\n",
    "for buffer in blNet.longBranch.buffers():\n",
    "    buffer_size += buffer.nelement() * buffer.element_size()\n",
    "\n",
    "size_all_mb = (param_size + buffer_size) / 1024**2\n",
    "print(\"Model Size (MB): \", size_all_mb)"
   ]
  },
  {
   "cell_type": "markdown",
   "id": "64f67556-424d-4255-903b-832fb43031d6",
   "metadata": {},
   "source": [
    "# **EE Model**"
   ]
  },
  {
   "cell_type": "code",
   "execution_count": 9,
   "id": "52456142-4a9d-46f4-8926-10bb034da1a3",
   "metadata": {},
   "outputs": [
    {
     "name": "stdout",
     "output_type": "stream",
     "text": [
      "['Training\\\\Fire', 'Training\\\\No_Fire']\n"
     ]
    }
   ],
   "source": [
    "#Same code for creating the datasets as in the BAse Line Model Section expect a time_test data loader is made with a larger batch size in order to \n",
    "# accurately gauge the inference time of the early exit model.\n",
    "\n",
    "dataset = TrainValDataset()\n",
    "trainval_size = int(0.8 * len(dataset))\n",
    "test_size = len(dataset) - trainval_size\n",
    "\n",
    "trainval_dataset, test_dataset = torch.utils.data.random_split(dataset, [trainval_size, test_size])\n",
    "\n",
    "train_size = int(0.75 * len(trainval_dataset))\n",
    "val_size = len(trainval_dataset) - train_size\n",
    "\n",
    "train_dataset, val_dataset = torch.utils.data.random_split(trainval_dataset, [train_size, val_size])\n",
    "\n",
    "train_loader = DataLoader(train_dataset, batch_size= 32, shuffle = True, num_workers= 0)\n",
    "\n",
    "val_loader = DataLoader(val_dataset, batch_size= 32, shuffle = False, num_workers= 0)\n",
    "\n",
    "test_loader = DataLoader(test_dataset, batch_size= 32, shuffle = False, num_workers= 0)\n",
    "\n",
    "time_test_loader = DataLoader(test_dataset, batch_size= 200, shuffle = False, num_workers= 0)"
   ]
  },
  {
   "cell_type": "code",
   "execution_count": 17,
   "id": "666d7959-3f56-47db-bd2b-99b2bb90785f",
   "metadata": {},
   "outputs": [],
   "source": [
    "NUM_EPOCHS = 10"
   ]
  },
  {
   "cell_type": "code",
   "execution_count": 10,
   "id": "ad411f8b-cffb-4cd2-9946-0740e36470cd",
   "metadata": {},
   "outputs": [
    {
     "name": "stdout",
     "output_type": "stream",
     "text": [
      "Number of base parameters: 276\n",
      "Number of short branch parameters: 4065538\n",
      "Number of long branch parameters: 16281762\n",
      "Difference = 12216224\n"
     ]
    }
   ],
   "source": [
    "## First the Eearly exit model is made using the eeModel_V0 class, the EE model takes the BL model and creates a short branch after the first two\n",
    "# 2d CNN layers, the short branch consist of a fully connected kayer, the long branch is the rest of the base line model.\n",
    "\n",
    "# Then the handler for the Early Exit model is made using the eeHandler class, \n",
    "# in this class are functions that handle the training, testing, and validation of the EE mode\n",
    "# after the handler is made the model is trained using the training and validation data loaders\n",
    "\n",
    "eeNet_V0 = eeModel_V0().to(device)\n",
    "optimizer_ee_V0 = optim.Adam(eeNet_V0.parameters(), lr=1e-3)\n",
    "scheduler_V0 = None\n",
    "criterion_ee_V0 = nn.CrossEntropyLoss()\n",
    "V0_titleToday = \"./Models/0410_eev0.pth\"\n",
    "EE_V0 = eeHandler(eeNet_V0, criterion_ee_V0, optimizer_ee_V0, device=device, scheduler=scheduler_V0, num_epochs=NUM_EPOCHS, bestPath=V0_titleToday)"
   ]
  },
  {
   "cell_type": "code",
   "execution_count": 11,
   "id": "fad62411-8cdb-4e4e-b16e-a3dc4ce5e177",
   "metadata": {
    "scrolled": true
   },
   "outputs": [
    {
     "name": "stdout",
     "output_type": "stream",
     "text": [
      "epoch 1 --> trainLoss: 0.358, trainAcc: 0.956, validLoss: 0.347, validAcc: 0.966\n",
      "Model Saved!\n",
      "epoch 2 --> trainLoss: 0.328, trainAcc: 0.985, validLoss: 0.327, validAcc: 0.986\n",
      "Model Saved!\n",
      "epoch 3 --> trainLoss: 0.324, trainAcc: 0.989, validLoss: 0.324, validAcc: 0.989\n",
      "Model Saved!\n",
      "epoch 4 --> trainLoss: 0.323, trainAcc: 0.991, validLoss: 0.321, validAcc: 0.992\n",
      "Model Saved!\n",
      "epoch 5 --> trainLoss: 0.320, trainAcc: 0.993, validLoss: 0.324, validAcc: 0.989\n",
      "epoch 6 --> trainLoss: 0.320, trainAcc: 0.994, validLoss: 0.325, validAcc: 0.988\n",
      "epoch 7 --> trainLoss: 0.319, trainAcc: 0.994, validLoss: 0.546, validAcc: 0.760\n",
      "epoch 8 --> trainLoss: 0.319, trainAcc: 0.994, validLoss: 0.320, validAcc: 0.993\n",
      "Model Saved!\n",
      "epoch 9 --> trainLoss: 0.318, trainAcc: 0.995, validLoss: 0.318, validAcc: 0.995\n",
      "Model Saved!\n",
      "epoch 10 --> trainLoss: 0.318, trainAcc: 0.995, validLoss: 0.318, validAcc: 0.995\n"
     ]
    }
   ],
   "source": [
    "eeNet_V0, eeV0History = EE_V0.train(train_loader, val_loader)"
   ]
  },
  {
   "cell_type": "code",
   "execution_count": 15,
   "id": "7e64aa77-322a-44ac-b4b0-b30f37ceda32",
   "metadata": {},
   "outputs": [],
   "source": [
    "##code here is for testing the model, the best model that was saved during training is loaded and tested using a new handler\n",
    "\n",
    "V0_titleToday = \"./Models/0410_eev0.pth\"\n",
    "eeNet_V0.load_state_dict(torch.load(\"./Models/0410_eev0.pth\"))\n",
    "EE_V0 = eeHandler(eeNet_V0, criterion_ee_V0, optimizer_ee_V0, device=device, scheduler=scheduler_V0, num_epochs=NUM_EPOCHS, bestPath=V0_titleToday)"
   ]
  },
  {
   "cell_type": "markdown",
   "id": "cd59f00a-21e6-4910-bce5-dc45ef6a968b",
   "metadata": {},
   "source": [
    "Threshold = 0.05"
   ]
  },
  {
   "cell_type": "code",
   "execution_count": 16,
   "id": "80f61018-b9b0-4ff8-8b04-ff65592aa658",
   "metadata": {},
   "outputs": [
    {
     "name": "stdout",
     "output_type": "stream",
     "text": [
      "Summary\n",
      "======================\n",
      "Branch 1: Accuracy 99.85% with 99.21% of the samples\n",
      "Branch 2: Accuracy 88.16% with 0.79% of the samples\n",
      "Overall Weighted Accuracy: 99.76%\n"
     ]
    }
   ],
   "source": [
    "# Using the test dataset to test the model with a 5% threshold (must be 95% confident in order to early exit)\n",
    "\n",
    "rec, pred1, acc = EE_V0.infer(test_loader, threshold = 0.05)\n",
    "EE_V0.testingSummary(rec)"
   ]
  },
  {
   "cell_type": "code",
   "execution_count": 17,
   "id": "2ca0d918-1aad-4485-947e-3665ef63e244",
   "metadata": {},
   "outputs": [
    {
     "name": "stdout",
     "output_type": "stream",
     "text": [
      "Execution Time (s):  0.0012585674676935876\n"
     ]
    }
   ],
   "source": [
    "startTime = time.time()\n",
    "EE_V0.forward_timeTest(time_test_loader, ratio = 0.9921)\n",
    "executionTime= (time.time() - startTime)/len(test_dataset)\n",
    "print(\"Execution Time (s): \", executionTime)"
   ]
  },
  {
   "cell_type": "markdown",
   "id": "1d573d9d-d48d-4cc7-aa3a-b961952adc65",
   "metadata": {},
   "source": [
    "Threshold = 0.1"
   ]
  },
  {
   "cell_type": "code",
   "execution_count": 18,
   "id": "8a30fc1f-d967-49e5-bf88-b29b360c2392",
   "metadata": {},
   "outputs": [
    {
     "name": "stdout",
     "output_type": "stream",
     "text": [
      "Summary\n",
      "======================\n",
      "Branch 1: Accuracy 99.80% with 99.47% of the samples\n",
      "Branch 2: Accuracy 86.27% with 0.53% of the samples\n",
      "Overall Weighted Accuracy: 99.73%\n"
     ]
    }
   ],
   "source": [
    "# Using the test dataset to test the model with a 10% threshold (must be 90% confident in order to early exit)\n",
    "\n",
    "rec, pred2, acc = EE_V0.infer(test_loader, threshold = 0.1)\n",
    "EE_V0.testingSummary(rec)"
   ]
  },
  {
   "cell_type": "code",
   "execution_count": 19,
   "id": "38a1a50b-38b7-48b3-92b3-c4c647a35c6a",
   "metadata": {},
   "outputs": [
    {
     "name": "stdout",
     "output_type": "stream",
     "text": [
      "Execution Time (s):  0.0012151900648213834\n"
     ]
    }
   ],
   "source": [
    "startTime = time.time()\n",
    "EE_V0.forward_timeTest(time_test_loader, ratio = 0.9947)\n",
    "executionTime= (time.time() - startTime)/len(test_dataset)\n",
    "print(\"Execution Time (s): \", executionTime)"
   ]
  },
  {
   "cell_type": "markdown",
   "id": "62727239-1c31-4c57-913f-7584857eb2a4",
   "metadata": {},
   "source": [
    "Threshold = 0.2"
   ]
  },
  {
   "cell_type": "code",
   "execution_count": 20,
   "id": "d11228f4-b9bc-484f-a952-1e316f8d94ae",
   "metadata": {},
   "outputs": [
    {
     "name": "stdout",
     "output_type": "stream",
     "text": [
      "Summary\n",
      "======================\n",
      "Branch 1: Accuracy 99.75% with 99.72% of the samples\n",
      "Branch 2: Accuracy 88.89% with 0.28% of the samples\n",
      "Overall Weighted Accuracy: 99.72%\n"
     ]
    }
   ],
   "source": [
    "# Using the test dataset to test the model with a 20% threshold (must be 80% confident in order to early exit)\n",
    "\n",
    "rec, pred3, acc = EE_V0.infer(time_test_loader, threshold = 0.2)\n",
    "EE_V0.testingSummary(rec)"
   ]
  },
  {
   "cell_type": "code",
   "execution_count": 23,
   "id": "69e7a889-78cb-4ce3-9edf-7fc21ada7dff",
   "metadata": {},
   "outputs": [
    {
     "name": "stdout",
     "output_type": "stream",
     "text": [
      "Execution Time (s):  0.0012137303191903407\n"
     ]
    }
   ],
   "source": [
    "startTime = time.time()\n",
    "EE_V0.forward_timeTest(time_test_loader, ratio = 0.9972)\n",
    "executionTime= (time.time() - startTime)/len(test_dataset)\n",
    "print(\"Execution Time (s): \", executionTime)"
   ]
  },
  {
   "cell_type": "code",
   "execution_count": 24,
   "id": "0a231436-3458-4295-bf11-fa94079b44c5",
   "metadata": {},
   "outputs": [
    {
     "data": {
      "text/plain": [
       "77.63414001464844"
      ]
     },
     "execution_count": 24,
     "metadata": {},
     "output_type": "execute_result"
    }
   ],
   "source": [
    "# use the compute_size() function in the eeModel_V0 to calculate the model's size in MB\n",
    "\n",
    "eeNet_V0.compute_size()"
   ]
  },
  {
   "cell_type": "markdown",
   "id": "9705271d-c607-4c34-918d-2d0816f352bc",
   "metadata": {},
   "source": [
    "# **Plots**"
   ]
  },
  {
   "cell_type": "code",
   "execution_count": 25,
   "id": "21f8af42-c6cf-45c3-9420-cbb35d22dd5c",
   "metadata": {},
   "outputs": [],
   "source": [
    "#code below gets the labels for each entry in the test dataset, this is used to create confusion matrices\n",
    "\n",
    "idx = range(len(test_dataset))\n",
    "true_label = []\n",
    "for inputs, labels in test_loader:\n",
    "        \n",
    "        labels = labels.data.cpu().float().tolist()\n",
    "        true_label.extend(labels) # Save Truth\n"
   ]
  },
  {
   "cell_type": "code",
   "execution_count": 26,
   "id": "e32bf710-6845-4c85-acb7-7873b25f6fa6",
   "metadata": {},
   "outputs": [],
   "source": [
    "for i in range(len(true_label)):\n",
    "    true_label[i] = int(true_label[i][0])"
   ]
  },
  {
   "cell_type": "markdown",
   "id": "cebe2c0d-19a0-4973-9a13-bcc08f46d1e9",
   "metadata": {},
   "source": [
    "**BL Plots**"
   ]
  },
  {
   "cell_type": "code",
   "execution_count": 33,
   "id": "204f7823-e55c-4424-9b15-a8c852b883e3",
   "metadata": {},
   "outputs": [
    {
     "data": {
      "image/png": "[encoded data removed]",
      "text/plain": [
       "<Figure size 640x480 with 1 Axes>"
      ]
     },
     "metadata": {},
     "output_type": "display_data"
    }
   ],
   "source": [
    "# code for plotting and saving base line training/validation accuracy and loss plots and base line model confusion matrix\n",
    "\n",
    "figTitle = './Figures/BL_tv_acc.png'\n",
    "fig = plt.Figure()\n",
    "xAxis = range(10)\n",
    "\n",
    "plt.plot(xAxis, blHistory[\"train\"][\"accuracy\"], color = \"green\");\n",
    "plt.plot(xAxis, blHistory[\"validation\"][\"accuracy\"], color = \"red\");\n",
    "plt.legend([\"Training\", \"Validation\"])\n",
    "plt.xlabel('EPOCH')\n",
    "plt.ylabel('Accuracy')\n",
    "plt.title(\"Baseline Model Training and Validation Accuracy\")\n",
    "plt.savefig(figTitle)\n",
    "plt.show()"
   ]
  },
  {
   "cell_type": "code",
   "execution_count": 28,
   "id": "ae1fbfea-7262-4b01-83de-f3d34459578b",
   "metadata": {},
   "outputs": [
    {
     "data": {
      "image/png": "[encoded data removed]",
      "text/plain": [
       "<Figure size 640x480 with 1 Axes>"
      ]
     },
     "metadata": {},
     "output_type": "display_data"
    }
   ],
   "source": [
    "figTitle = './Figures/BL_tv_loss.png'\n",
    "fig = plt.Figure()\n",
    "xAxis = range(10)\n",
    "\n",
    "plt.plot(xAxis, blHistory[\"train\"][\"loss\"], color = \"green\");\n",
    "plt.plot(xAxis, blHistory[\"validation\"][\"loss\"], color = \"red\");\n",
    "plt.legend([\"Training\", \"Validation\"])\n",
    "plt.xlabel('EPOCH')\n",
    "plt.ylabel('Loss')\n",
    "plt.title(\"Baseline Model Training and Validation Loss\")\n",
    "plt.savefig(figTitle)\n",
    "plt.show()"
   ]
  },
  {
   "cell_type": "code",
   "execution_count": 31,
   "id": "a7288ca8-eec6-4558-aa82-65251be84892",
   "metadata": {},
   "outputs": [
    {
     "data": {
      "image/png": "[encoded data removed]",
      "text/plain": [
       "<Figure size 640x480 with 2 Axes>"
      ]
     },
     "metadata": {},
     "output_type": "display_data"
    }
   ],
   "source": [
    "cfm = confusion_matrix(true_label, predictedBL)\n",
    "disp = ConfusionMatrixDisplay(confusion_matrix=cfm, display_labels=[\"No_Fire\",\"Fire\"])\n",
    "disp.plot()\n",
    "plt.savefig('./Figures/BL_CM.png')"
   ]
  },
  {
   "cell_type": "markdown",
   "id": "e4ea3699-b5b8-4042-a32a-c191e7a95ca5",
   "metadata": {},
   "source": [
    "**Early Exiting Plots**"
   ]
  },
  {
   "cell_type": "code",
   "execution_count": 34,
   "id": "437c94f0-ed1f-4be3-b808-8ec5fb1e021c",
   "metadata": {},
   "outputs": [
    {
     "data": {
      "image/png": "[encoded data removed]",
      "text/plain": [
       "<Figure size 640x480 with 1 Axes>"
      ]
     },
     "metadata": {},
     "output_type": "display_data"
    }
   ],
   "source": [
    "#code for plotting and saving ear;y exiting training/validation accuracy and loss plots\n",
    "\n",
    "figTitle = './Figures/EE0_tv_acc.png'\n",
    "fig = plt.Figure()\n",
    "xAxis = range(10)\n",
    "\n",
    "plt.plot(xAxis, eeV0History['T'][\"train\"][\"accuracy\"], color = \"green\");\n",
    "plt.plot(xAxis, eeV0History['T'][\"validation\"][\"accuracy\"], color = \"red\");\n",
    "plt.legend([\"Training\", \"Validation\"])\n",
    "plt.xlabel('EPOCH')\n",
    "plt.ylabel('Accuracy')\n",
    "plt.title(\"Early Exit Model Training and Validation Accuracy\")\n",
    "plt.savefig(figTitle)\n",
    "plt.show()"
   ]
  },
  {
   "cell_type": "code",
   "execution_count": 35,
   "id": "e6f2d510-b715-41c5-83d0-6c2ec42a15ad",
   "metadata": {},
   "outputs": [
    {
     "data": {
      "image/png": "[encoded data removed]",
      "text/plain": [
       "<Figure size 640x480 with 1 Axes>"
      ]
     },
     "metadata": {},
     "output_type": "display_data"
    }
   ],
   "source": [
    "figTitle = './Figures/EE0_tv_loss.png'\n",
    "fig = plt.Figure()\n",
    "xAxis = range(10)\n",
    "\n",
    "plt.plot(xAxis, eeV0History['T'][\"train\"][\"loss\"], color = \"green\");\n",
    "plt.plot(xAxis, eeV0History['T'][\"validation\"][\"loss\"], color = \"red\");\n",
    "plt.legend([\"Training\", \"Validation\"])\n",
    "plt.xlabel('EPOCH')\n",
    "plt.ylabel('Loss')\n",
    "plt.title(\"Early Exit Model Training and Validation Loss\")\n",
    "plt.savefig(figTitle)\n",
    "plt.show()"
   ]
  },
  {
   "cell_type": "code",
   "execution_count": 36,
   "id": "af67db06-c23d-40e3-9668-cafc2cc7b4c1",
   "metadata": {},
   "outputs": [
    {
     "data": {
      "image/png": "[encoded data removed]",
      "text/plain": [
       "<Figure size 640x480 with 2 Axes>"
      ]
     },
     "metadata": {},
     "output_type": "display_data"
    }
   ],
   "source": [
    "# create and save 95% confidence early exit confusion matrix\n",
    "\n",
    "cfm = confusion_matrix(true_label, pred1)\n",
    "disp = ConfusionMatrixDisplay(confusion_matrix=cfm, display_labels=[\"No_Fire\",\"Fire\"])\n",
    "disp.plot()\n",
    "plt.savefig('./Figures/EE95_CM.png')"
   ]
  },
  {
   "cell_type": "code",
   "execution_count": 37,
   "id": "54e93a69-ed1a-443c-aa87-035271cf0a6e",
   "metadata": {},
   "outputs": [
    {
     "data": {
      "image/png": "[encoded data removed]",
      "text/plain": [
       "<Figure size 640x480 with 2 Axes>"
      ]
     },
     "metadata": {},
     "output_type": "display_data"
    }
   ],
   "source": [
    "# create and save 90% confidence early exit confusion matrix\n",
    "\n",
    "cfm = confusion_matrix(true_label, pred2)\n",
    "disp = ConfusionMatrixDisplay(confusion_matrix=cfm, display_labels=[\"No_Fire\",\"Fire\"])\n",
    "disp.plot()\n",
    "plt.savefig('./Figures/EE90_CM.png')"
   ]
  },
  {
   "cell_type": "code",
   "execution_count": 38,
   "id": "5928a36b-3de0-4971-837b-816d21159c8e",
   "metadata": {},
   "outputs": [
    {
     "data": {
      "image/png": "[encoded data removed]",
      "text/plain": [
       "<Figure size 640x480 with 2 Axes>"
      ]
     },
     "metadata": {},
     "output_type": "display_data"
    }
   ],
   "source": [
    "# create and save 80% confidence early exit confusion matrix\n",
    "\n",
    "cfm = confusion_matrix(true_label, pred3)\n",
    "disp = ConfusionMatrixDisplay(confusion_matrix=cfm, display_labels=[\"No_Fire\",\"Fire\"])\n",
    "disp.plot()\n",
    "plt.savefig('./Figures/EE80_CM.png')"
   ]
  },
  {
   "cell_type": "markdown",
   "id": "48453a21-0be0-4254-b252-c1491b2e579e",
   "metadata": {},
   "source": [
    "# **Pruning**"
   ]
  },
  {
   "cell_type": "markdown",
   "id": "fb63bcbd-0137-408d-ba2e-7824ea56d7ab",
   "metadata": {},
   "source": [
    " **Pruning To 50% Sparsity**"
   ]
  },
  {
   "cell_type": "code",
   "execution_count": 97,
   "id": "0713ca8b-871b-487e-a14d-68a5a1dd600c",
   "metadata": {},
   "outputs": [
    {
     "name": "stdout",
     "output_type": "stream",
     "text": [
      "Number of base parameters: 276\n",
      "Number of short branch parameters: 4065538\n",
      "Number of long branch parameters: 16281762\n",
      "Difference = 12216224\n"
     ]
    },
    {
     "data": {
      "text/plain": [
       "<All keys matched successfully>"
      ]
     },
     "execution_count": 97,
     "metadata": {},
     "output_type": "execute_result"
    }
   ],
   "source": [
    "Pruned_eeNet_V0 = eeModel_V0().to(device)\n",
    "Pruned_eeNet_V0.load_state_dict(torch.load(\"./Models/0410_eev0.pth\"))"
   ]
  },
  {
   "cell_type": "code",
   "execution_count": 98,
   "id": "ecddd980-dd1a-4cb5-9846-4e83c708fb63",
   "metadata": {},
   "outputs": [],
   "source": [
    "parameters_to_prune = (\n",
    "    (Pruned_eeNet_V0.baseModel[0], 'weight'),\n",
    "    (Pruned_eeNet_V0.baseModel[3], 'weight'),\n",
    "    (Pruned_eeNet_V0.shortBranch[2], 'weight'),\n",
    "    (Pruned_eeNet_V0.shortBranch[5], 'weight'),\n",
    "    (Pruned_eeNet_V0.longBranch[0], 'weight'),\n",
    "    (Pruned_eeNet_V0.longBranch[3], 'weight'),\n",
    "    (Pruned_eeNet_V0.longBranch[7], 'weight'),\n",
    "    (Pruned_eeNet_V0.longBranch[10], 'weight'),\n",
    "    (Pruned_eeNet_V0.longBranch[13], 'weight'),\n",
    "    (Pruned_eeNet_V0.longBranch[18], 'weight'),\n",
    "    (Pruned_eeNet_V0.longBranch[21], 'weight'),\n",
    "    (Pruned_eeNet_V0.longBranch[24], 'weight'),\n",
    ")"
   ]
  },
  {
   "cell_type": "code",
   "execution_count": 99,
   "id": "698f2dd6-1235-4ee6-99b5-0910bdb54847",
   "metadata": {},
   "outputs": [],
   "source": [
    "prune.global_unstructured(\n",
    "    parameters_to_prune,\n",
    "    pruning_method=prune.L1Unstructured,\n",
    "    amount=0.50,\n",
    ")"
   ]
  },
  {
   "cell_type": "code",
   "execution_count": 100,
   "id": "0216156b-4051-49e5-a70e-2c55c88e9c23",
   "metadata": {},
   "outputs": [],
   "source": [
    "optimizer_pruned_ee_V0 = optim.Adam(Pruned_eeNet_V0.parameters(), lr=1e-3)\n",
    "scheduler_V0 = None\n",
    "criterion_ee_V0 = nn.CrossEntropyLoss()\n",
    "PrV0_titleToday = \"./Models/pruned50_0410_eeNet.pth\"\n",
    "PrEE_V0 = eeHandler(Pruned_eeNet_V0, criterion_ee_V0, optimizer_pruned_ee_V0, device=device, scheduler=scheduler_V0, num_epochs=3, bestPath=PrV0_titleToday)"
   ]
  },
  {
   "cell_type": "code",
   "execution_count": 101,
   "id": "3e713b94-3276-425c-9bd8-4fce3bfb7620",
   "metadata": {},
   "outputs": [
    {
     "name": "stdout",
     "output_type": "stream",
     "text": [
      "epoch 1 --> trainLoss: 0.317, trainAcc: 0.997, validLoss: 0.320, validAcc: 0.992\n",
      "Model Saved!\n",
      "epoch 2 --> trainLoss: 0.316, trainAcc: 0.997, validLoss: 0.321, validAcc: 0.993\n",
      "epoch 3 --> trainLoss: 0.316, trainAcc: 0.997, validLoss: 0.318, validAcc: 0.996\n",
      "Model Saved!\n"
     ]
    }
   ],
   "source": [
    "Pruned_eeNet_V0, Pruned_eeV0History = PrEE_V0.train(train_loader, val_loader)"
   ]
  },
  {
   "cell_type": "code",
   "execution_count": 102,
   "id": "9b918d85-5f3f-4838-9eb7-4e85a06bdff5",
   "metadata": {},
   "outputs": [
    {
     "name": "stdout",
     "output_type": "stream",
     "text": [
      "Summary\n",
      "======================\n",
      "Branch 1: Accuracy 99.66% with 98.97% of the samples\n",
      "Branch 2: Accuracy 90.91% with 1.03% of the samples\n",
      "Overall Weighted Accuracy: 99.57%\n"
     ]
    }
   ],
   "source": [
    "rec, pred4, acc = PrEE_V0.infer(test_loader, threshold = 0.05)\n",
    "PrEE_V0.testingSummary(rec)"
   ]
  },
  {
   "cell_type": "code",
   "execution_count": 103,
   "id": "762e3a3f-8f6e-462a-8d9b-37aeef10f8a2",
   "metadata": {},
   "outputs": [
    {
     "name": "stdout",
     "output_type": "stream",
     "text": [
      "0.0012952740185707108\n"
     ]
    }
   ],
   "source": [
    "startTime = time.time()\n",
    "PrEE_V0.forward_timeTest(time_test_loader, ratio = 0.9915)\n",
    "executionTime= (time.time() - startTime)/len(test_dataset)\n",
    "print(executionTime)"
   ]
  },
  {
   "cell_type": "code",
   "execution_count": 104,
   "id": "a7f4f8fa-9d3a-45ff-b696-55794e3145fa",
   "metadata": {},
   "outputs": [],
   "source": [
    "for module in parameters_to_prune:\n",
    "    prune.remove(module[0], module[1])"
   ]
  },
  {
   "cell_type": "code",
   "execution_count": 105,
   "id": "58ac792b-bfcd-4a08-ae15-7d125745238d",
   "metadata": {},
   "outputs": [
    {
     "name": "stdout",
     "output_type": "stream",
     "text": [
      "50.0\n"
     ]
    }
   ],
   "source": [
    "zero_weights = 0;\n",
    "param_num = 0;\n",
    "\n",
    "for module in parameters_to_prune:\n",
    "\n",
    "    zero_weights += float(torch.sum(module[0].weight == 0))\n",
    "    param_num += float(module[0].weight.nelement())\n",
    "\n",
    "sparsity_percent = 100 * zero_weights/param_num\n",
    "\n",
    "print(sparsity_percent)"
   ]
  },
  {
   "cell_type": "code",
   "execution_count": 106,
   "id": "c1be3aaa-31f7-49e6-ae3a-a53fe61cd41a",
   "metadata": {},
   "outputs": [
    {
     "name": "stdout",
     "output_type": "stream",
     "text": [
      "tensor(38.8349, device='cuda:0')\n"
     ]
    }
   ],
   "source": [
    "param_size = 0\n",
    "\n",
    "for param in Pruned_eeNet_V0.baseModel.parameters():\n",
    "    param_size += param.count_nonzero() * param.element_size()\n",
    "for param in Pruned_eeNet_V0.shortBranch.parameters():\n",
    "    param_size += param.count_nonzero() * param.element_size()\n",
    "for param in Pruned_eeNet_V0.longBranch.parameters():\n",
    "    param_size += param.count_nonzero() * param.element_size()\n",
    "\n",
    "buffer_size = 0\n",
    "for buffer in Pruned_eeNet_V0.baseModel.buffers():\n",
    "    buffer_size += buffer.nelement() * buffer.element_size()\n",
    "for buffer in Pruned_eeNet_V0.shortBranch.buffers():\n",
    "    buffer_size += buffer.nelement() * buffer.element_size()\n",
    "for buffer in Pruned_eeNet_V0.longBranch.buffers():\n",
    "    buffer_size += buffer.nelement() * buffer.element_size()\n",
    "\n",
    "size_all_mb = (param_size + buffer_size) / 1024**2\n",
    "\n",
    "print(size_all_mb)"
   ]
  },
  {
   "cell_type": "code",
   "execution_count": 107,
   "id": "af4fe79d-dcc9-41d8-b678-2aeb49fbfb46",
   "metadata": {},
   "outputs": [],
   "source": [
    "torch.save(Pruned_eeNet_V0.state_dict(), PrV0_titleToday)"
   ]
  },
  {
   "cell_type": "markdown",
   "id": "c7d780c0-7eb3-4833-8fa2-e97434bd8988",
   "metadata": {},
   "source": [
    " **Pruning to 70% Sparsity**"
   ]
  },
  {
   "cell_type": "code",
   "execution_count": 53,
   "id": "fc23994a-67ce-4ea0-8d7f-7536d22dd2de",
   "metadata": {},
   "outputs": [
    {
     "name": "stdout",
     "output_type": "stream",
     "text": [
      "Number of base parameters: 276\n",
      "Number of short branch parameters: 4065538\n",
      "Number of long branch parameters: 16281762\n",
      "Difference = 12216224\n"
     ]
    },
    {
     "data": {
      "text/plain": [
       "<All keys matched successfully>"
      ]
     },
     "execution_count": 53,
     "metadata": {},
     "output_type": "execute_result"
    }
   ],
   "source": [
    "Pruned_eeNet_V1 = eeModel_V0().to(device)\n",
    "Pruned_eeNet_V1.load_state_dict(torch.load(\"./Models/0410_eev0.pth\"))"
   ]
  },
  {
   "cell_type": "code",
   "execution_count": 54,
   "id": "0d722758-fd0b-4f82-b4ff-688093ae5d7f",
   "metadata": {},
   "outputs": [],
   "source": [
    "parameters_to_prune = (\n",
    "    (Pruned_eeNet_V1.baseModel[0], 'weight'),\n",
    "    (Pruned_eeNet_V1.baseModel[3], 'weight'),\n",
    "    (Pruned_eeNet_V1.shortBranch[2], 'weight'),\n",
    "    (Pruned_eeNet_V1.shortBranch[5], 'weight'),\n",
    "    (Pruned_eeNet_V1.longBranch[0], 'weight'),\n",
    "    (Pruned_eeNet_V1.longBranch[3], 'weight'),\n",
    "    (Pruned_eeNet_V1.longBranch[7], 'weight'),\n",
    "    (Pruned_eeNet_V1.longBranch[10], 'weight'),\n",
    "    (Pruned_eeNet_V1.longBranch[13], 'weight'),\n",
    "    (Pruned_eeNet_V1.longBranch[18], 'weight'),\n",
    "    (Pruned_eeNet_V1.longBranch[21], 'weight'),\n",
    "    (Pruned_eeNet_V1.longBranch[24], 'weight'),\n",
    ")"
   ]
  },
  {
   "cell_type": "code",
   "execution_count": 55,
   "id": "c1053024-df3b-439e-96a3-57edbb18615a",
   "metadata": {},
   "outputs": [],
   "source": [
    "prune.global_unstructured(\n",
    "    parameters_to_prune,\n",
    "    pruning_method=prune.L1Unstructured,\n",
    "    amount=0.70,\n",
    ")"
   ]
  },
  {
   "cell_type": "code",
   "execution_count": 56,
   "id": "93498457-5d97-4f3e-911e-252c5710431e",
   "metadata": {},
   "outputs": [],
   "source": [
    "optimizer_pruned_ee_V1 = optim.Adam(Pruned_eeNet_V1.parameters(), lr=1e-3)\n",
    "scheduler_V0 = None\n",
    "criterion_ee_V0 = nn.CrossEntropyLoss()\n",
    "PrV1_titleToday = \"./Models/pruned70_0410_eeNet.pth\"\n",
    "PrEE_V1 = eeHandler(Pruned_eeNet_V1, criterion_ee_V0, optimizer_pruned_ee_V1, device=device, scheduler=scheduler_V0, num_epochs=3, bestPath=PrV1_titleToday)"
   ]
  },
  {
   "cell_type": "code",
   "execution_count": 57,
   "id": "eedb38a0-003f-43d4-8029-4d8c3b827486",
   "metadata": {},
   "outputs": [
    {
     "name": "stdout",
     "output_type": "stream",
     "text": [
      "epoch 1 --> trainLoss: 0.317, trainAcc: 0.996, validLoss: 0.320, validAcc: 0.993\n",
      "Model Saved!\n",
      "epoch 2 --> trainLoss: 0.316, trainAcc: 0.997, validLoss: 0.319, validAcc: 0.994\n",
      "Model Saved!\n",
      "epoch 3 --> trainLoss: 0.316, trainAcc: 0.997, validLoss: 0.317, validAcc: 0.996\n",
      "Model Saved!\n"
     ]
    }
   ],
   "source": [
    "Pruned_eeNet_V1, Pruned_eeV1History = PrEE_V1.train(train_loader, val_loader)"
   ]
  },
  {
   "cell_type": "code",
   "execution_count": 90,
   "id": "1597f424-dc36-48da-bb49-f148614063f8",
   "metadata": {},
   "outputs": [
    {
     "name": "stdout",
     "output_type": "stream",
     "text": [
      "Summary\n",
      "======================\n",
      "Branch 1: Accuracy 99.71% with 99.50% of the samples\n",
      "Branch 2: Accuracy 93.75% with 0.50% of the samples\n",
      "Overall Weighted Accuracy: 99.68%\n"
     ]
    }
   ],
   "source": [
    "rec, pred5, acc = PrEE_V1.infer(test_loader, threshold = 0.05)\n",
    "PrEE_V1.testingSummary(rec)"
   ]
  },
  {
   "cell_type": "code",
   "execution_count": 70,
   "id": "6c21bad8-3e94-4826-b8cb-7484fd01d465",
   "metadata": {},
   "outputs": [
    {
     "name": "stdout",
     "output_type": "stream",
     "text": [
      "0.0012332834493543894\n"
     ]
    }
   ],
   "source": [
    "startTime = time.time()\n",
    "PrEE_V1.forward_timeTest(time_test_loader, ratio = 0.9950)\n",
    "executionTime= (time.time() - startTime)/len(test_dataset)\n",
    "print(executionTime)"
   ]
  },
  {
   "cell_type": "code",
   "execution_count": 95,
   "id": "1558c430-b461-4fe6-94f8-d74d9b05f1a1",
   "metadata": {},
   "outputs": [],
   "source": [
    "for module in parameters_to_prune:\n",
    "    prune.remove(module[0], module[1])"
   ]
  },
  {
   "cell_type": "code",
   "execution_count": 62,
   "id": "ef47bc59-81ae-49b9-b7c8-e9c4e2cf5be3",
   "metadata": {},
   "outputs": [
    {
     "name": "stdout",
     "output_type": "stream",
     "text": [
      "70.0\n"
     ]
    }
   ],
   "source": [
    "zero_weights = 0;\n",
    "param_num = 0;\n",
    "\n",
    "for module in parameters_to_prune:\n",
    "\n",
    "    zero_weights += float(torch.sum(module[0].weight == 0))\n",
    "    param_num += float(module[0].weight.nelement())\n",
    "\n",
    "sparsity_percent = 100 * zero_weights/param_num\n",
    "\n",
    "print(sparsity_percent)"
   ]
  },
  {
   "cell_type": "code",
   "execution_count": 77,
   "id": "3bd52001-ab9b-4510-b7ff-e0118501d30b",
   "metadata": {},
   "outputs": [
    {
     "name": "stdout",
     "output_type": "stream",
     "text": [
      "tensor(23.3152, device='cuda:0')\n"
     ]
    }
   ],
   "source": [
    "param_size = 0\n",
    "\n",
    "for param in Pruned_eeNet_V1.baseModel.parameters():\n",
    "    param_size += param.count_nonzero() * param.element_size()\n",
    "for param in Pruned_eeNet_V1.shortBranch.parameters():\n",
    "    param_size += param.count_nonzero() * param.element_size()\n",
    "for param in Pruned_eeNet_V1.longBranch.parameters():\n",
    "    param_size += param.count_nonzero() * param.element_size()\n",
    "\n",
    "buffer_size = 0\n",
    "for buffer in Pruned_eeNet_V1.baseModel.buffers():\n",
    "    buffer_size += buffer.nelement() * buffer.element_size()\n",
    "for buffer in Pruned_eeNet_V1.shortBranch.buffers():\n",
    "    buffer_size += buffer.nelement() * buffer.element_size()\n",
    "for buffer in Pruned_eeNet_V1.longBranch.buffers():\n",
    "    buffer_size += buffer.nelement() * buffer.element_size()\n",
    "\n",
    "size_all_mb = (param_size + buffer_size) / 1024**2\n",
    "\n",
    "print(size_all_mb)"
   ]
  },
  {
   "cell_type": "code",
   "execution_count": 93,
   "id": "2776d0ce-b110-4ee3-add6-45969079dc81",
   "metadata": {},
   "outputs": [],
   "source": [
    "torch.save(Pruned_eeNet_V1.state_dict(), PrV1_titleToday)"
   ]
  },
  {
   "cell_type": "markdown",
   "id": "54633e3a-1eb8-43c3-ae07-6dd1a83351de",
   "metadata": {},
   "source": [
    " **Pruning to 90% Sparsity**"
   ]
  },
  {
   "cell_type": "code",
   "execution_count": 64,
   "id": "56dbfa33-e3af-4545-916f-793008d6f8c5",
   "metadata": {},
   "outputs": [
    {
     "name": "stdout",
     "output_type": "stream",
     "text": [
      "Number of base parameters: 276\n",
      "Number of short branch parameters: 4065538\n",
      "Number of long branch parameters: 16281762\n",
      "Difference = 12216224\n"
     ]
    },
    {
     "data": {
      "text/plain": [
       "<All keys matched successfully>"
      ]
     },
     "execution_count": 64,
     "metadata": {},
     "output_type": "execute_result"
    }
   ],
   "source": [
    "Pruned_eeNet_V2 = eeModel_V0().to(device)\n",
    "Pruned_eeNet_V2.load_state_dict(torch.load(\"./Models/0410_eev0.pth\"))"
   ]
  },
  {
   "cell_type": "code",
   "execution_count": 65,
   "id": "cbdb42e6-b145-4766-b15e-598306894c67",
   "metadata": {},
   "outputs": [],
   "source": [
    "parameters_to_prune = (\n",
    "    (Pruned_eeNet_V2.baseModel[0], 'weight'),\n",
    "    (Pruned_eeNet_V2.baseModel[3], 'weight'),\n",
    "    (Pruned_eeNet_V2.shortBranch[2], 'weight'),\n",
    "    (Pruned_eeNet_V2.shortBranch[5], 'weight'),\n",
    "    (Pruned_eeNet_V2.longBranch[0], 'weight'),\n",
    "    (Pruned_eeNet_V2.longBranch[3], 'weight'),\n",
    "    (Pruned_eeNet_V2.longBranch[7], 'weight'),\n",
    "    (Pruned_eeNet_V2.longBranch[10], 'weight'),\n",
    "    (Pruned_eeNet_V2.longBranch[13], 'weight'),\n",
    "    (Pruned_eeNet_V2.longBranch[18], 'weight'),\n",
    "    (Pruned_eeNet_V2.longBranch[21], 'weight'),\n",
    "    (Pruned_eeNet_V2.longBranch[24], 'weight'),\n",
    ")"
   ]
  },
  {
   "cell_type": "code",
   "execution_count": 66,
   "id": "3c6b5e0e-267e-4af3-8c99-6f7f9dc3d7ec",
   "metadata": {},
   "outputs": [],
   "source": [
    "prune.global_unstructured(\n",
    "    parameters_to_prune,\n",
    "    pruning_method=prune.L1Unstructured,\n",
    "    amount=0.90,\n",
    ")"
   ]
  },
  {
   "cell_type": "code",
   "execution_count": 67,
   "id": "11d88c20-b828-408c-a4b1-dfeee797c0d5",
   "metadata": {},
   "outputs": [],
   "source": [
    "optimizer_pruned_ee_V2 = optim.Adam(Pruned_eeNet_V2.parameters(), lr=1e-3)\n",
    "scheduler_V0 = None\n",
    "criterion_ee_V0 = nn.CrossEntropyLoss()\n",
    "PrV2_titleToday = \"./Models/pruned90_0410_eeNet.pth\"\n",
    "PrEE_V2 = eeHandler(Pruned_eeNet_V2, criterion_ee_V0, optimizer_pruned_ee_V2, device=device, scheduler=scheduler_V0, num_epochs=3, bestPath=PrV2_titleToday)"
   ]
  },
  {
   "cell_type": "code",
   "execution_count": 68,
   "id": "c9c0f5f4-bec1-468b-973d-e306e2b69794",
   "metadata": {},
   "outputs": [
    {
     "name": "stdout",
     "output_type": "stream",
     "text": [
      "epoch 1 --> trainLoss: 0.316, trainAcc: 0.997, validLoss: 0.318, validAcc: 0.996\n",
      "Model Saved!\n",
      "epoch 2 --> trainLoss: 0.316, trainAcc: 0.998, validLoss: 0.317, validAcc: 0.997\n",
      "Model Saved!\n",
      "epoch 3 --> trainLoss: 0.315, trainAcc: 0.998, validLoss: 0.316, validAcc: 0.997\n",
      "Model Saved!\n"
     ]
    }
   ],
   "source": [
    "Pruned_eeNet_V2, Pruned_eeV2History = PrEE_V2.train(train_loader, val_loader)"
   ]
  },
  {
   "cell_type": "code",
   "execution_count": 69,
   "id": "ff2e0cb7-9c06-44d3-81a7-e5c0eda32994",
   "metadata": {},
   "outputs": [
    {
     "name": "stdout",
     "output_type": "stream",
     "text": [
      "Summary\n",
      "======================\n",
      "Branch 1: Accuracy 99.75% with 99.51% of the samples\n",
      "Branch 2: Accuracy 78.72% with 0.49% of the samples\n",
      "Overall Weighted Accuracy: 99.65%\n"
     ]
    }
   ],
   "source": [
    "rec, pred6, acc = PrEE_V2.infer(test_loader, threshold = 0.05)\n",
    "PrEE_V2.testingSummary(rec)"
   ]
  },
  {
   "cell_type": "code",
   "execution_count": 75,
   "id": "a5d665c2-f839-458f-8e45-ae8dde16282a",
   "metadata": {},
   "outputs": [
    {
     "name": "stdout",
     "output_type": "stream",
     "text": [
      "0.001232521647475066\n"
     ]
    }
   ],
   "source": [
    "startTime = time.time()\n",
    "PrEE_V2.forward_timeTest(time_test_loader, ratio = 0.9951)\n",
    "executionTime= (time.time() - startTime)/len(test_dataset)\n",
    "print(executionTime)"
   ]
  },
  {
   "cell_type": "code",
   "execution_count": 72,
   "id": "d82d4a31-fc97-40f1-b84b-9860b954ee9e",
   "metadata": {},
   "outputs": [],
   "source": [
    "for module in parameters_to_prune:\n",
    "    prune.remove(module[0], module[1])"
   ]
  },
  {
   "cell_type": "code",
   "execution_count": 73,
   "id": "449e9af7-c550-49cd-be42-f6325e220571",
   "metadata": {},
   "outputs": [
    {
     "name": "stdout",
     "output_type": "stream",
     "text": [
      "90.0\n"
     ]
    }
   ],
   "source": [
    "zero_weights = 0;\n",
    "param_num = 0;\n",
    "\n",
    "for module in parameters_to_prune:\n",
    "\n",
    "    zero_weights += float(torch.sum(module[0].weight == 0))\n",
    "    param_num += float(module[0].weight.nelement())\n",
    "\n",
    "sparsity_percent = 100 * zero_weights/param_num\n",
    "\n",
    "print(sparsity_percent)"
   ]
  },
  {
   "cell_type": "code",
   "execution_count": 74,
   "id": "b1b76816-0baa-4990-b7a9-01e33ffab35b",
   "metadata": {},
   "outputs": [
    {
     "data": {
      "text/plain": [
       "77.63414001464844"
      ]
     },
     "execution_count": 74,
     "metadata": {},
     "output_type": "execute_result"
    }
   ],
   "source": [
    "Pruned_eeNet_V2.compute_size()"
   ]
  },
  {
   "cell_type": "code",
   "execution_count": 78,
   "id": "4145eb15-5f94-4906-8086-5bde2a0ea7dc",
   "metadata": {},
   "outputs": [
    {
     "name": "stdout",
     "output_type": "stream",
     "text": [
      "tensor(7.7955, device='cuda:0')\n"
     ]
    }
   ],
   "source": [
    "param_size = 0\n",
    "\n",
    "for param in Pruned_eeNet_V2.baseModel.parameters():\n",
    "    param_size += param.count_nonzero() * param.element_size()\n",
    "for param in Pruned_eeNet_V2.shortBranch.parameters():\n",
    "    param_size += param.count_nonzero() * param.element_size()\n",
    "for param in Pruned_eeNet_V2.longBranch.parameters():\n",
    "    param_size += param.count_nonzero() * param.element_size()\n",
    "\n",
    "buffer_size = 0\n",
    "for buffer in Pruned_eeNet_V2.baseModel.buffers():\n",
    "    buffer_size += buffer.nelement() * buffer.element_size()\n",
    "for buffer in Pruned_eeNet_V2.shortBranch.buffers():\n",
    "    buffer_size += buffer.nelement() * buffer.element_size()\n",
    "for buffer in Pruned_eeNet_V2.longBranch.buffers():\n",
    "    buffer_size += buffer.nelement() * buffer.element_size()\n",
    "\n",
    "size_all_mb = (param_size + buffer_size) / 1024**2\n",
    "\n",
    "print(size_all_mb)"
   ]
  },
  {
   "cell_type": "code",
   "execution_count": 94,
   "id": "686e8b32-5a0f-482d-94ed-1952c3625663",
   "metadata": {},
   "outputs": [],
   "source": [
    "torch.save(Pruned_eeNet_V2.state_dict(), PrV2_titleToday)"
   ]
  },
  {
   "cell_type": "code",
   "execution_count": null,
   "id": "1019e163-2137-4f92-b1fa-68ee881eef19",
   "metadata": {},
   "outputs": [],
   "source": []
  }
 ],
 "metadata": {
  "kernelspec": {
   "display_name": "Python 3 (ipykernel)",
   "language": "python",
   "name": "python3"
  },
  "language_info": {
   "codemirror_mode": {
    "name": "ipython",
    "version": 3
   },
   "file_extension": ".py",
   "mimetype": "text/x-python",
   "name": "python",
   "nbconvert_exporter": "python",
   "pygments_lexer": "ipython3",
   "version": "3.9.18"
  }
 },
 "nbformat": 4,
 "nbformat_minor": 5
}
