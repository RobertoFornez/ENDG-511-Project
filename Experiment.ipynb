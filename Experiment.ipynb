{
 "cells": [
  {
   "cell_type": "code",
   "execution_count": 1,
   "id": "d3cd21d6-578f-46a4-85ee-1b83fe5bcc27",
   "metadata": {},
   "outputs": [
    {
     "name": "stdout",
     "output_type": "stream",
     "text": [
      "cpu\n"
     ]
    }
   ],
   "source": [
    "import pickle\n",
    "import numpy as np\n",
    "import random\n",
    "import glob\n",
    "import matplotlib.pylab as plt\n",
    "import numpy as np\n",
    "from PIL import Image\n",
    "from sklearn.model_selection import StratifiedShuffleSplit\n",
    "\n",
    "import torch\n",
    "from torch.utils.data import Dataset, DataLoader\n",
    "import torch.nn as nn\n",
    "import torch.nn.functional as func\n",
    "from torchvision.models import resnet18\n",
    "from torchvision import transforms, models\n",
    "import torch.optim as optim\n",
    "from torch.optim.lr_scheduler import ExponentialLR\n",
    "from torch.optim.lr_scheduler import StepLR\n",
    "from torch.optim.lr_scheduler import CosineAnnealingLR\n",
    "from sklearn.model_selection import train_test_split\n",
    "from sklearn.metrics import accuracy_score\n",
    "from sklearn.model_selection import StratifiedShuffleSplit\n",
    "from scipy.stats import entropy\n",
    "from getData import *\n",
    "from trainer import *\n",
    "from getModel import *\n",
    "#import torchprofile\n",
    "\n",
    "import time\n",
    "# Seed for reproducibility\n",
    "SEED = 25\n",
    "random.seed(SEED)\n",
    "torch.manual_seed(SEED)\n",
    "np.random.seed(SEED)\n",
    "\n",
    "device = torch.device('cuda:0' if torch.cuda.is_available() else 'cpu')\n",
    "print(device)"
   ]
  },
  {
   "cell_type": "markdown",
   "id": "6796dbbc-fb81-4a73-8bc9-8d4afc2132d4",
   "metadata": {},
   "source": [
    "# **Load Dataset**"
   ]
  },
  {
   "cell_type": "code",
   "execution_count": 2,
   "id": "3c69ff39-06cf-466f-8774-f24f00d53f91",
   "metadata": {},
   "outputs": [
    {
     "name": "stdout",
     "output_type": "stream",
     "text": [
      "['Training\\\\Fire', 'Training\\\\No_Fire']\n",
      "['Test\\\\Fire', 'Test\\\\No_Fire']\n"
     ]
    }
   ],
   "source": [
    "dataset = TrainValDataset()\n",
    "train_size = int(0.8 * len(dataset))\n",
    "test_size = len(dataset) - train_size\n",
    "train_dataset, val_dataset = torch.utils.data.random_split(dataset, [train_size, test_size])\n",
    "\n",
    "train_loader = DataLoader(train_dataset, batch_size= 32, shuffle = True, num_workers= 0)\n",
    "\n",
    "val_loader = DataLoader(val_dataset, batch_size= 32, shuffle = False, num_workers= 0)\n",
    "\n",
    "test_dataset = TestDataset()\n",
    "\n",
    "test_loader = DataLoader(test_dataset, batch_size= 32, shuffle = False, num_workers= 0)\n"
   ]
  },
  {
   "cell_type": "markdown",
   "id": "06bcb05d-20f3-4e79-aa5a-23bce3ff7458",
   "metadata": {},
   "source": [
    "# **Baseline Model**"
   ]
  },
  {
   "cell_type": "code",
   "execution_count": 3,
   "id": "a8fdad25-ef1b-4749-a29b-c9f98247ce77",
   "metadata": {},
   "outputs": [],
   "source": [
    "NUM_EPOCHS = 5"
   ]
  },
  {
   "cell_type": "code",
   "execution_count": 4,
   "id": "b5cc4341-ec5a-4608-baf7-0996f957eafb",
   "metadata": {},
   "outputs": [],
   "source": [
    "blNet = blModel().to(device)\n",
    "optimizer_bl = optim.Adam(blNet.parameters(), lr=0.0001, weight_decay=5e-4)\n",
    "scheduler = None\n",
    "criterion_bl = nn.CrossEntropyLoss()"
   ]
  },
  {
   "cell_type": "code",
   "execution_count": 5,
   "id": "2a846a6e-2f72-4646-9d44-e760088c1c26",
   "metadata": {},
   "outputs": [
    {
     "name": "stdout",
     "output_type": "stream",
     "text": [
      "epoch 1 --> trainLoss: 0.345, trainAcc: 0.968, validLoss: 0.341, validAcc: 0.973\n",
      "Model Saved!\n",
      "epoch 2 --> trainLoss: 0.336, trainAcc: 0.978, validLoss: 0.338, validAcc: 0.976\n",
      "Model Saved!\n",
      "epoch 3 --> trainLoss: 0.334, trainAcc: 0.980, validLoss: 0.337, validAcc: 0.976\n",
      "Model Saved!\n",
      "epoch 4 --> trainLoss: 0.333, trainAcc: 0.980, validLoss: 0.337, validAcc: 0.976\n",
      "epoch 5 --> trainLoss: 0.333, trainAcc: 0.980, validLoss: 0.335, validAcc: 0.978\n",
      "Model Saved!\n"
     ]
    }
   ],
   "source": [
    "bl_titleToday = \"./Models/best_bl_0319.pth\"\n",
    "BL = blHandler(blNet, criterion_bl, optimizer_bl, device=device, scheduler=scheduler, num_epochs=NUM_EPOCHS, bestPath=bl_titleToday)\n",
    "blNet, blHistory = BL.train(train_loader, val_loader)"
   ]
  },
  {
   "cell_type": "code",
   "execution_count": 6,
   "id": "611fc1af-4768-4040-9605-2afde52558f0",
   "metadata": {},
   "outputs": [],
   "source": [
    "bl_titleToday = \"./Models/best_bl_0319.pth\"\n",
    "blNet.load_state_dict(torch.load(\"./Models/best_bl_0319.pth\"))\n",
    "BL = blHandler(blNet, criterion_bl, optimizer_bl, device=device, scheduler=scheduler, num_epochs=NUM_EPOCHS, bestPath=bl_titleToday)\n",
    "predicted, acc = BL.infer(test_loader)"
   ]
  },
  {
   "cell_type": "code",
   "execution_count": 7,
   "id": "a11175ac-c814-421a-953e-db5ee9247cfd",
   "metadata": {},
   "outputs": [
    {
     "name": "stdout",
     "output_type": "stream",
     "text": [
      "0.6162037037037037\n"
     ]
    }
   ],
   "source": [
    "print(acc)"
   ]
  },
  {
   "cell_type": "markdown",
   "id": "64f67556-424d-4255-903b-832fb43031d6",
   "metadata": {},
   "source": [
    "# **EEM Model**"
   ]
  },
  {
   "cell_type": "code",
   "execution_count": null,
   "id": "ad411f8b-cffb-4cd2-9946-0740e36470cd",
   "metadata": {},
   "outputs": [],
   "source": []
  },
  {
   "cell_type": "code",
   "execution_count": null,
   "id": "fad62411-8cdb-4e4e-b16e-a3dc4ce5e177",
   "metadata": {},
   "outputs": [],
   "source": []
  }
 ],
 "metadata": {
  "kernelspec": {
   "display_name": "Python 3 (ipykernel)",
   "language": "python",
   "name": "python3"
  },
  "language_info": {
   "codemirror_mode": {
    "name": "ipython",
    "version": 3
   },
   "file_extension": ".py",
   "mimetype": "text/x-python",
   "name": "python",
   "nbconvert_exporter": "python",
   "pygments_lexer": "ipython3",
   "version": "3.9.18"
  }
 },
 "nbformat": 4,
 "nbformat_minor": 5
}
