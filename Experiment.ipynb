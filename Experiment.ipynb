{
 "cells": [
  {
   "cell_type": "code",
   "execution_count": 1,
   "id": "d3cd21d6-578f-46a4-85ee-1b83fe5bcc27",
   "metadata": {},
   "outputs": [
    {
     "name": "stderr",
     "output_type": "stream",
     "text": [
      "C:\\Users\\rafor\\anaconda3\\envs\\endg511\\lib\\site-packages\\transformers\\utils\\generic.py:441: UserWarning: torch.utils._pytree._register_pytree_node is deprecated. Please use torch.utils._pytree.register_pytree_node instead.\n",
      "  _torch_pytree._register_pytree_node(\n"
     ]
    },
    {
     "name": "stdout",
     "output_type": "stream",
     "text": [
      "cuda:0\n"
     ]
    }
   ],
   "source": [
    "import pickle\n",
    "import numpy as np\n",
    "import random\n",
    "import glob\n",
    "import matplotlib.pylab as plt\n",
    "import numpy as np\n",
    "from PIL import Image\n",
    "from sklearn.model_selection import StratifiedShuffleSplit\n",
    "\n",
    "import torch\n",
    "from torch.utils.data import Dataset, DataLoader\n",
    "import torch.nn as nn\n",
    "import torch.nn.functional as func\n",
    "from torchvision.models import resnet18\n",
    "from torchvision import transforms, models\n",
    "import torch.optim as optim\n",
    "from torch.optim.lr_scheduler import ExponentialLR\n",
    "from torch.optim.lr_scheduler import StepLR\n",
    "from torch.optim.lr_scheduler import CosineAnnealingLR\n",
    "from sklearn.model_selection import train_test_split\n",
    "from sklearn.metrics import accuracy_score\n",
    "from sklearn.model_selection import StratifiedShuffleSplit\n",
    "from scipy.stats import entropy\n",
    "from getData import *\n",
    "from trainer import *\n",
    "from getModel import *\n",
    "#import torchprofile\n",
    "\n",
    "import time\n",
    "# Seed for reproducibility\n",
    "SEED = 25\n",
    "random.seed(SEED)\n",
    "torch.manual_seed(SEED)\n",
    "np.random.seed(SEED)\n",
    "\n",
    "device = torch.device('cuda:0' if torch.cuda.is_available() else 'cpu')\n",
    "print(device)"
   ]
  },
  {
   "cell_type": "markdown",
   "id": "6796dbbc-fb81-4a73-8bc9-8d4afc2132d4",
   "metadata": {},
   "source": [
    "# **Load Dataset**"
   ]
  },
  {
   "cell_type": "code",
   "execution_count": 2,
   "id": "3c69ff39-06cf-466f-8774-f24f00d53f91",
   "metadata": {},
   "outputs": [
    {
     "name": "stdout",
     "output_type": "stream",
     "text": [
      "['Training\\\\Fire', 'Training\\\\No_Fire']\n",
      "['Test\\\\Fire', 'Test\\\\No_Fire']\n"
     ]
    }
   ],
   "source": [
    "dataset = TrainValDataset()\n",
    "train_size = int(0.8 * len(dataset))\n",
    "test_size = len(dataset) - train_size\n",
    "train_dataset, val_dataset = torch.utils.data.random_split(dataset, [train_size, test_size])\n",
    "\n",
    "train_loader = DataLoader(train_dataset, batch_size= 32, shuffle = True, num_workers= 0)\n",
    "\n",
    "val_loader = DataLoader(val_dataset, batch_size= 32, shuffle = False, num_workers= 0)\n",
    "\n",
    "test_dataset = TestDataset()\n",
    "\n",
    "test_loader = DataLoader(test_dataset, batch_size= 32, shuffle = False, num_workers= 0)\n"
   ]
  },
  {
   "cell_type": "markdown",
   "id": "06bcb05d-20f3-4e79-aa5a-23bce3ff7458",
   "metadata": {},
   "source": [
    "# **Baseline Model**"
   ]
  },
  {
   "cell_type": "code",
   "execution_count": 3,
   "id": "a8fdad25-ef1b-4749-a29b-c9f98247ce77",
   "metadata": {},
   "outputs": [],
   "source": [
    "NUM_EPOCHS = 10"
   ]
  },
  {
   "cell_type": "code",
   "execution_count": 4,
   "id": "b5cc4341-ec5a-4608-baf7-0996f957eafb",
   "metadata": {},
   "outputs": [],
   "source": [
    "blNet = blModel().to(device)\n",
    "optimizer_bl = optim.Adam(blNet.parameters(), lr=1e-3)\n",
    "scheduler = None\n",
    "criterion_bl = nn.CrossEntropyLoss()"
   ]
  },
  {
   "cell_type": "code",
   "execution_count": 5,
   "id": "2a846a6e-2f72-4646-9d44-e760088c1c26",
   "metadata": {
    "scrolled": true
   },
   "outputs": [
    {
     "name": "stdout",
     "output_type": "stream",
     "text": [
      "epoch 1 --> trainLoss: 0.336, trainAcc: 0.978, validLoss: 0.741, validAcc: 0.565\n",
      "Model Saved!\n",
      "epoch 2 --> trainLoss: 0.325, trainAcc: 0.988, validLoss: 0.715, validAcc: 0.595\n",
      "Model Saved!\n",
      "epoch 3 --> trainLoss: 0.322, trainAcc: 0.991, validLoss: 0.732, validAcc: 0.576\n",
      "epoch 4 --> trainLoss: 0.321, trainAcc: 0.992, validLoss: 0.733, validAcc: 0.578\n",
      "epoch 5 --> trainLoss: 0.320, trainAcc: 0.993, validLoss: 0.636, validAcc: 0.673\n",
      "Model Saved!\n",
      "epoch 6 --> trainLoss: 0.320, trainAcc: 0.993, validLoss: 0.715, validAcc: 0.590\n",
      "epoch 7 --> trainLoss: 0.318, trainAcc: 0.995, validLoss: 0.703, validAcc: 0.604\n",
      "epoch 8 --> trainLoss: 0.319, trainAcc: 0.994, validLoss: 0.691, validAcc: 0.619\n",
      "epoch 9 --> trainLoss: 0.318, trainAcc: 0.995, validLoss: 0.712, validAcc: 0.594\n",
      "epoch 10 --> trainLoss: 0.319, trainAcc: 0.994, validLoss: 0.733, validAcc: 0.575\n"
     ]
    }
   ],
   "source": [
    "bl_titleToday = \"./Models/best_bl_0319.pth\"\n",
    "BL = blHandler(blNet, criterion_bl, optimizer_bl, device=device, scheduler=scheduler, num_epochs=NUM_EPOCHS, bestPath=bl_titleToday)\n",
    "blNet, blHistory = BL.train(train_loader, test_loader)"
   ]
  },
  {
   "cell_type": "code",
   "execution_count": 5,
   "id": "611fc1af-4768-4040-9605-2afde52558f0",
   "metadata": {},
   "outputs": [],
   "source": [
    "bl_titleToday = \"./Models/best_bl_0319.pth\"\n",
    "blNet.load_state_dict(torch.load(\"./Models/best_bl_0319.pth\"))\n",
    "BL = blHandler(blNet, criterion_bl, optimizer_bl, device=device, scheduler=scheduler, num_epochs=NUM_EPOCHS, bestPath=bl_titleToday)\n",
    "startTime = time.time()\n",
    "predicted, acc = BL.infer(test_loader)\n",
    "executionTime= (time.time() - startTime)/len(test_dataset)"
   ]
  },
  {
   "cell_type": "code",
   "execution_count": 6,
   "id": "a11175ac-c814-421a-953e-db5ee9247cfd",
   "metadata": {},
   "outputs": [
    {
     "name": "stdout",
     "output_type": "stream",
     "text": [
      "0.6734953703703703\n",
      "0.0014931765208045665\n"
     ]
    }
   ],
   "source": [
    "print(acc)\n",
    "print(executionTime)"
   ]
  },
  {
   "cell_type": "markdown",
   "id": "64f67556-424d-4255-903b-832fb43031d6",
   "metadata": {},
   "source": [
    "# **EE Model**"
   ]
  },
  {
   "cell_type": "code",
   "execution_count": 11,
   "id": "52456142-4a9d-46f4-8926-10bb034da1a3",
   "metadata": {},
   "outputs": [
    {
     "name": "stdout",
     "output_type": "stream",
     "text": [
      "['Training\\\\Fire', 'Training\\\\No_Fire']\n",
      "['Test\\\\Fire', 'Test\\\\No_Fire']\n"
     ]
    }
   ],
   "source": [
    "dataset = TrainValDataset()\n",
    "train_size = int(0.8 * len(dataset))\n",
    "test_size = len(dataset) - train_size\n",
    "train_dataset, val_dataset = torch.utils.data.random_split(dataset, [train_size, test_size])\n",
    "\n",
    "train_loader = DataLoader(train_dataset, batch_size= 32, shuffle = True, num_workers= 0)\n",
    "\n",
    "val_loader = DataLoader(val_dataset, batch_size= 32, shuffle = False, num_workers= 0)\n",
    "\n",
    "test_dataset = TestDataset()\n",
    "\n",
    "test_loader = DataLoader(test_dataset, batch_size= 32, shuffle = False, num_workers= 0)"
   ]
  },
  {
   "cell_type": "code",
   "execution_count": 12,
   "id": "666d7959-3f56-47db-bd2b-99b2bb90785f",
   "metadata": {},
   "outputs": [],
   "source": [
    "NUM_EPOCHS = 10"
   ]
  },
  {
   "cell_type": "code",
   "execution_count": 13,
   "id": "ad411f8b-cffb-4cd2-9946-0740e36470cd",
   "metadata": {},
   "outputs": [
    {
     "name": "stdout",
     "output_type": "stream",
     "text": [
      "Number of base parameters: 1188\n",
      "Number of short branch parameters: 6952450\n",
      "Number of long branch parameters: 13380882\n",
      "Difference = 6428432\n"
     ]
    }
   ],
   "source": [
    "eeNet_V0 = eeModel_V0().to(device)\n",
    "optimizer_ee_V0 = optim.Adam(eeNet_V0.parameters(), lr=1e-3)\n",
    "scheduler_V0 = None\n",
    "criterion_ee_V0 = nn.CrossEntropyLoss()\n",
    "V0_titleToday = \"./Models/best_eev0.pth\"\n",
    "EE_V0 = eeHandler(eeNet_V0, criterion_ee_V0, optimizer_ee_V0, device=device, scheduler=scheduler_V0, num_epochs=NUM_EPOCHS, bestPath=V0_titleToday)"
   ]
  },
  {
   "cell_type": "code",
   "execution_count": 14,
   "id": "fad62411-8cdb-4e4e-b16e-a3dc4ce5e177",
   "metadata": {
    "scrolled": true
   },
   "outputs": [
    {
     "name": "stdout",
     "output_type": "stream",
     "text": [
      "epoch 1 --> trainLoss: 0.336, trainAcc: 0.977, validLoss: 0.764, validAcc: 0.541\n",
      "Model Saved!\n",
      "epoch 2 --> trainLoss: 0.323, trainAcc: 0.990, validLoss: 0.736, validAcc: 0.570\n",
      "Model Saved!\n",
      "epoch 3 --> trainLoss: 0.321, trainAcc: 0.992, validLoss: 0.784, validAcc: 0.520\n",
      "epoch 4 --> trainLoss: 0.319, trainAcc: 0.994, validLoss: 0.798, validAcc: 0.500\n",
      "epoch 5 --> trainLoss: 0.319, trainAcc: 0.994, validLoss: 0.738, validAcc: 0.569\n",
      "epoch 6 --> trainLoss: 0.318, trainAcc: 0.995, validLoss: 0.741, validAcc: 0.565\n",
      "epoch 7 --> trainLoss: 0.318, trainAcc: 0.995, validLoss: 0.747, validAcc: 0.558\n",
      "epoch 8 --> trainLoss: 0.318, trainAcc: 0.996, validLoss: 0.726, validAcc: 0.578\n",
      "Model Saved!\n",
      "epoch 9 --> trainLoss: 0.318, trainAcc: 0.996, validLoss: 0.788, validAcc: 0.518\n",
      "epoch 10 --> trainLoss: 0.317, trainAcc: 0.996, validLoss: 0.752, validAcc: 0.550\n"
     ]
    }
   ],
   "source": [
    "eeNetV0, eeV0History = EE_V0.train(train_loader, test_loader)"
   ]
  },
  {
   "cell_type": "code",
   "execution_count": 15,
   "id": "80f61018-b9b0-4ff8-8b04-ff65592aa658",
   "metadata": {},
   "outputs": [],
   "source": [
    "V0_titleToday = \"./Models/best_eev0.pth\"\n",
    "eeNet_V0.load_state_dict(torch.load(\"./Models/best_eev0.pth\"))\n",
    "EE_V0 = eeHandler(eeNet_V0, criterion_ee_V0, optimizer_ee_V0, device=device, scheduler=scheduler_V0, num_epochs=NUM_EPOCHS, bestPath=V0_titleToday)\n",
    "startTime = time.time()\n",
    "rec, pred, acc = EE_V0.infer(test_loader, threshold = 0.1)\n",
    "executionTime= (time.time() - startTime)/len(test_dataset)"
   ]
  },
  {
   "cell_type": "code",
   "execution_count": 16,
   "id": "2ca0d918-1aad-4485-947e-3665ef63e244",
   "metadata": {},
   "outputs": [
    {
     "name": "stdout",
     "output_type": "stream",
     "text": [
      "0.5847742833932923\n",
      "0.0026283626892844194\n"
     ]
    }
   ],
   "source": [
    "print(acc)\n",
    "print(executionTime)"
   ]
  },
  {
   "cell_type": "code",
   "execution_count": 17,
   "id": "d87573e2-c00b-449d-8a4b-58ee0cef4ba9",
   "metadata": {},
   "outputs": [
    {
     "name": "stdout",
     "output_type": "stream",
     "text": [
      "Summary\n",
      "======================\n",
      "Branch 1: Accuracy 58.90% with 86.67% of the samples\n",
      "Branch 2: Accuracy 55.70% with 13.33% of the samples\n",
      "Overall Weighted Accuracy: 58.48%\n"
     ]
    }
   ],
   "source": [
    "EE_V0.testingSummary(rec)"
   ]
  },
  {
   "cell_type": "code",
   "execution_count": null,
   "id": "8a30fc1f-d967-49e5-bf88-b29b360c2392",
   "metadata": {},
   "outputs": [],
   "source": []
  }
 ],
 "metadata": {
  "kernelspec": {
   "display_name": "Python 3 (ipykernel)",
   "language": "python",
   "name": "python3"
  },
  "language_info": {
   "codemirror_mode": {
    "name": "ipython",
    "version": 3
   },
   "file_extension": ".py",
   "mimetype": "text/x-python",
   "name": "python",
   "nbconvert_exporter": "python",
   "pygments_lexer": "ipython3",
   "version": "3.9.18"
  }
 },
 "nbformat": 4,
 "nbformat_minor": 5
}
