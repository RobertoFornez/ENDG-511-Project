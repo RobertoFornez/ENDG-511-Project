{
  "nbformat": 4,
  "nbformat_minor": 0,
  "metadata": {
    "colab": {
      "provenance": [],
      "authorship_tag": "ABX9TyP6pxBdaoHumWtTb+n2Moxo"
    },
    "kernelspec": {
      "name": "python3",
      "display_name": "Python 3"
    },
    "language_info": {
      "name": "python"
    }
  },
  "cells": [
    {
      "cell_type": "markdown",
      "source": [
        "# model_train notebook\n",
        "\n",
        "The model_training notebook uses the 7th dataset file of the IEEE FLAME dataset to traing a classification model able to identify aerial views of fire and no fire.\n",
        "\n",
        "https://ieee-dataport.org/open-access/flame-dataset-aerial-imagery-pile-burn-detection-using-drones-uavs\n",
        "\n",
        "\n"
      ],
      "metadata": {
        "id": "x1lbbQNNOt5C"
      }
    },
    {
      "cell_type": "code",
      "execution_count": null,
      "metadata": {
        "id": "D8tcN8tgNjT2"
      },
      "outputs": [],
      "source": [
        "# Import libraries\n",
        "\n",
        "import os.path\n",
        "import tensorflow as tf\n",
        "from tensorflow import keras\n",
        "import matplotlib.pyplot as plt\n",
        "from tensorflow.keras import layers\n",
        "\n",
        "\n",
        "#from config import new_size\n",
        "#from plotdata import plot_training\n",
        "#from config import Config_classification"
      ]
    }
  ]
}